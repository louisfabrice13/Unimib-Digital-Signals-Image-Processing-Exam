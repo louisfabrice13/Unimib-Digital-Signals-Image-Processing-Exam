{
 "cells": [
  {
   "cell_type": "markdown",
   "metadata": {},
   "source": [
    "# **Compito Esercitazione 2**\n",
    "\n",
    "* Import E2\n",
    "* Data Loader E2\n",
    "* Features E2\n",
    "* **ZCR (intro, implementazione)**\n",
    "* SVM E2 + **ZCRcombo (relazione)**"
   ]
  },
  {
   "cell_type": "markdown",
   "metadata": {},
   "source": [
    "# Import E2"
   ]
  },
  {
   "cell_type": "code",
   "execution_count": 1,
   "metadata": {},
   "outputs": [],
   "source": [
    "import os\n",
    "import numpy as np\n",
    "from time import time\n",
    "from scipy.io import wavfile as wav\n",
    "\n",
    "import matplotlib.pyplot as plt\n",
    "import IPython.display as ipd\n",
    "\n",
    "# Strumenti di classificazione\n",
    "from sklearn.svm import SVC\n",
    "from sklearn.model_selection import train_test_split, GridSearchCV\n",
    "from sklearn.metrics import classification_report, confusion_matrix"
   ]
  },
  {
   "cell_type": "markdown",
   "metadata": {},
   "source": [
    "# Data Loader E2"
   ]
  },
  {
   "cell_type": "code",
   "execution_count": 2,
   "metadata": {},
   "outputs": [],
   "source": [
    "# Segnaposto per feature extractor\n",
    "def identity(input):\n",
    "    return input\n",
    "\n",
    "# Data loader\n",
    "def load_data(feature_extractor=identity, normalize=True):\n",
    "\n",
    "    labels = []\n",
    "    features = []\n",
    "\n",
    "    for f in sorted(os.listdir('./recordings')):\n",
    "        if f.endswith('.wav'):\n",
    "            # Carica file ed estraine le features\n",
    "            _, signal = wav.read('./recordings/' + f)\n",
    "            cur_features = feature_extractor(signal)\n",
    "            features.append(cur_features)\n",
    "\n",
    "            # Categorie\n",
    "            label = f.split('_')[0]\n",
    "            labels.append(label)\n",
    "\n",
    "    # X: features, y: labels\n",
    "    X_train, X_test, y_train, y_test = train_test_split(features, labels, test_size=0.1, random_state=1)\n",
    "\n",
    "    if normalize:\n",
    "        eps = 0.001\n",
    "        X_train = np.array(X_train)\n",
    "        X_train_mean = X_train.mean(axis=0)\n",
    "        X_train_std = X_train.std(axis=0)\n",
    "        X_train = (X_train - X_train_mean + eps)/(X_train_std + eps)\n",
    "        X_train = [row for row in X_train]\n",
    "\n",
    "        X_test = [row for row in (np.array(X_test) - X_train_mean + eps)/(X_train_std + eps)]\n",
    "\n",
    "    return X_train, X_test, y_train, y_test"
   ]
  },
  {
   "cell_type": "markdown",
   "metadata": {},
   "source": [
    "# Features"
   ]
  },
  {
   "cell_type": "code",
   "execution_count": 3,
   "metadata": {},
   "outputs": [],
   "source": [
    "def crop(input, size=100):\n",
    "    # Elimina eventuali valori oltre il numero consentito\n",
    "    output = input[0:min(size, input.shape[0])]\n",
    "    # Aggiungi valori nulli per raggiungere la dimensione richiesta\n",
    "    output = np.concatenate((output, np.zeros(size-output.shape[0])))\n",
    "    return output\n",
    "def sdev(input):\n",
    "    return np.std(input, keepdims=True)\n",
    "def avg(input):\n",
    "    return np.mean(input, keepdims=True)\n",
    "\n",
    "def aavg(input):\n",
    "    return np.mean(np.abs(input), keepdims=True)\n",
    "def duration(input):\n",
    "    return input.shape\n",
    "def energy(input):\n",
    "    return np.sum((input*1.0)**2, keepdims=True)"
   ]
  },
  {
   "cell_type": "markdown",
   "metadata": {},
   "source": [
    "# ZCR"
   ]
  },
  {
   "cell_type": "markdown",
   "metadata": {},
   "source": [
    "## Intro"
   ]
  },
  {
   "cell_type": "markdown",
   "metadata": {},
   "source": [
    "La ZCR (Zero Crossing Rate) è la frequenza con cui il segnale analogico attraversa l'asse delle ascisse (valore nullo del segnale), o equivalentemente cambia di segno. Quest'ultima è la definizione adeguata per i segnali digitali e la base per esplicitare una formula da implementare."
   ]
  },
  {
   "cell_type": "markdown",
   "metadata": {},
   "source": [
    "$$ ZCR_{digital}(s(k)) = \\frac{1}{2} \\sum_{k=n}^{k=n+N-1}|sgn[s_w(k)]-sgn[s_w(k-1)]|$$"
   ]
  },
  {
   "cell_type": "markdown",
   "metadata": {},
   "source": [
    "La funzione segno assume valori {-1, +1}, quindi il singolo termine della somma è +2 ogni volta che due istanti successivi assumono valore discorde. La metà della sommatoria conta i cambi di segno, per una finestra w lunga N campioni"
   ]
  },
  {
   "cell_type": "markdown",
   "metadata": {},
   "source": [
    "## Implementazione"
   ]
  },
  {
   "cell_type": "code",
   "execution_count": 4,
   "metadata": {},
   "outputs": [],
   "source": [
    "def zcr(input):\n",
    "    padinput = np.array(crop(input, input.shape[0]+1)) \n",
    "    # si aggiunge alla sequenza un termine nullo, per avere lo slot per il segnale 1-lag\n",
    "    \n",
    "    scsv = np.zeros_like(padinput) # segnale 1-lag inizializzato a valori nulli \n",
    "    scsv[1:] = np.array(crop(input, input.shape[0])) # valori del segnale originale inseriti con lag pari a 1\n",
    "    \n",
    "    zc_count = 0.5*np.sum(np.absolute(np.sign(padinput)-np.sign(scsv)))\n",
    "    # cfr formula scritta sopra, qui la sommatoria ha una finestra pari alla lunghezza dei segnali\n",
    "    # si deve passare da frequenza assoluta a relativa\n",
    "    zc_rate = zc_count / len(padinput)\n",
    "    \n",
    "    return (zc_rate, )"
   ]
  },
  {
   "cell_type": "markdown",
   "metadata": {},
   "source": [
    "## SVM E2 + ZCRcombo (relazione)"
   ]
  },
  {
   "cell_type": "code",
   "execution_count": 5,
   "metadata": {},
   "outputs": [],
   "source": [
    "def combo(input):\n",
    "    return np.concatenate((aavg(input),sdev(input),duration(input),energy(input)))"
   ]
  },
  {
   "cell_type": "code",
   "execution_count": 6,
   "metadata": {},
   "outputs": [],
   "source": [
    "def combo_zcr(input):\n",
    "    return np.concatenate((aavg(input),sdev(input),duration(input),energy(input),zcr(input)))"
   ]
  },
  {
   "cell_type": "markdown",
   "metadata": {},
   "source": [
    "SVM usando combo"
   ]
  },
  {
   "cell_type": "code",
   "execution_count": 7,
   "metadata": {},
   "outputs": [
    {
     "name": "stdout",
     "output_type": "stream",
     "text": [
      "Addestramento completato in 5.020s\n"
     ]
    }
   ],
   "source": [
    "# Caricamento dati\n",
    "X_train, X_test, y_train, y_test = load_data(feature_extractor=combo)\n",
    "\n",
    "# Parametri da provare in cross validation\n",
    "param_grid = {'C': [1e2, 5e2, 1e3],\n",
    "          'gamma': [0.005, 0.01, 0.1, 0.5, 1.0], }\n",
    "\n",
    "# Inizializzazione Support Vector Machine\n",
    "clf = GridSearchCV(SVC(kernel='rbf', class_weight='balanced'), param_grid, cv=2)\n",
    "\n",
    "# Addestramento\n",
    "t0 = time()\n",
    "clf = clf.fit(X_train, y_train)\n",
    "print(\"Addestramento completato in %0.3fs\" % (time() - t0))"
   ]
  },
  {
   "cell_type": "code",
   "execution_count": 8,
   "metadata": {},
   "outputs": [
    {
     "name": "stdout",
     "output_type": "stream",
     "text": [
      "Migliore combinazione di parametri:\n",
      " C: 1000.0\n",
      " gamma: 0.5\n"
     ]
    }
   ],
   "source": [
    "# Risultato della cross validation per la selezione dei parametri\n",
    "print(\"Migliore combinazione di parametri:\")\n",
    "print(\" C: \"+str(clf.best_estimator_.C))\n",
    "print(\" gamma: \"+str(clf.best_estimator_.gamma))"
   ]
  },
  {
   "cell_type": "code",
   "execution_count": 9,
   "metadata": {},
   "outputs": [
    {
     "name": "stdout",
     "output_type": "stream",
     "text": [
      "Report di classificazione:\n",
      "              precision    recall  f1-score   support\n",
      "\n",
      "           0       0.58      0.65      0.61        17\n",
      "           1       0.33      0.40      0.36        10\n",
      "           2       0.28      0.33      0.30        15\n",
      "           3       0.53      0.42      0.47        19\n",
      "           4       0.36      0.45      0.40        11\n",
      "           5       0.44      0.29      0.35        14\n",
      "           6       0.79      0.79      0.79        14\n",
      "           7       0.80      0.42      0.55        19\n",
      "           8       0.35      0.41      0.38        17\n",
      "           9       0.32      0.43      0.36        14\n",
      "\n",
      "    accuracy                           0.46       150\n",
      "   macro avg       0.48      0.46      0.46       150\n",
      "weighted avg       0.49      0.46      0.47       150\n",
      "\n",
      "Matrice di confusione:\n",
      "[[11  0  0  0  0  0  0  0  0  6]\n",
      " [ 0  4  2  2  0  1  0  0  1  0]\n",
      " [ 2  1  5  3  0  0  0  0  2  2]\n",
      " [ 0  3  7  8  0  0  0  0  0  1]\n",
      " [ 1  1  1  1  5  2  0  0  0  0]\n",
      " [ 1  0  0  1  4  4  1  0  2  1]\n",
      " [ 0  0  0  0  0  0 11  1  2  0]\n",
      " [ 0  0  0  0  2  0  2  8  4  3]\n",
      " [ 0  2  2  0  3  2  0  1  7  0]\n",
      " [ 4  1  1  0  0  0  0  0  2  6]]\n"
     ]
    },
    {
     "data": {
      "text/plain": [
       "<matplotlib.image.AxesImage at 0x22e94772748>"
      ]
     },
     "execution_count": 9,
     "metadata": {},
     "output_type": "execute_result"
    },
    {
     "data": {
      "image/png": "[encoded data removed]",
      "text/plain": [
       "<Figure size 432x288 with 1 Axes>"
      ]
     },
     "metadata": {
      "needs_background": "light"
     },
     "output_type": "display_data"
    }
   ],
   "source": [
    "# Test\n",
    "y_pred = clf.predict(X_test)\n",
    "\n",
    "# Report di classificazione\n",
    "print(\"Report di classificazione:\")\n",
    "print(classification_report(y_test, y_pred))\n",
    "\n",
    "# Matrice di confusione\n",
    "print(\"Matrice di confusione:\")\n",
    "cm = confusion_matrix(y_test, y_pred)\n",
    "print(cm)\n",
    "plt.imshow(cm, cmap=plt.cm.Blues)"
   ]
  },
  {
   "cell_type": "markdown",
   "metadata": {},
   "source": [
    "SVM usando combo_zcr"
   ]
  },
  {
   "cell_type": "code",
   "execution_count": 10,
   "metadata": {},
   "outputs": [
    {
     "name": "stdout",
     "output_type": "stream",
     "text": [
      "Addestramento completato in 3.333s\n"
     ]
    }
   ],
   "source": [
    "# Caricamento dati\n",
    "X_train, X_test, y_train, y_test = load_data(feature_extractor=combo_zcr)\n",
    "\n",
    "# Parametri da provare in cross validation\n",
    "param_grid = {'C': [1e2, 5e2, 1e3],\n",
    "          'gamma': [0.005, 0.01, 0.1, 0.5, 1.0], }\n",
    "\n",
    "# Inizializzazione Support Vector Machine\n",
    "clf2 = GridSearchCV(SVC(kernel='rbf', class_weight='balanced'), param_grid, cv=2)\n",
    "\n",
    "# Addestramento\n",
    "t0 = time()\n",
    "clf2 = clf2.fit(X_train, y_train)\n",
    "print(\"Addestramento completato in %0.3fs\" % (time() - t0))"
   ]
  },
  {
   "cell_type": "code",
   "execution_count": 11,
   "metadata": {},
   "outputs": [
    {
     "name": "stdout",
     "output_type": "stream",
     "text": [
      "Migliore combinazione di parametri:\n",
      " C: 1000.0\n",
      " gamma: 0.1\n"
     ]
    }
   ],
   "source": [
    "# Risultato della cross validation per la selezione dei parametri\n",
    "print(\"Migliore combinazione di parametri:\")\n",
    "print(\" C: \"+str(clf2.best_estimator_.C))\n",
    "print(\" gamma: \"+str(clf2.best_estimator_.gamma))"
   ]
  },
  {
   "cell_type": "code",
   "execution_count": 12,
   "metadata": {},
   "outputs": [
    {
     "name": "stdout",
     "output_type": "stream",
     "text": [
      "Report di classificazione:\n",
      "              precision    recall  f1-score   support\n",
      "\n",
      "           0       0.86      0.71      0.77        17\n",
      "           1       0.53      0.90      0.67        10\n",
      "           2       0.67      0.67      0.67        15\n",
      "           3       0.79      0.58      0.67        19\n",
      "           4       0.50      0.82      0.62        11\n",
      "           5       0.43      0.43      0.43        14\n",
      "           6       0.93      1.00      0.97        14\n",
      "           7       0.80      0.42      0.55        19\n",
      "           8       0.56      0.53      0.55        17\n",
      "           9       0.65      0.79      0.71        14\n",
      "\n",
      "    accuracy                           0.66       150\n",
      "   macro avg       0.67      0.68      0.66       150\n",
      "weighted avg       0.69      0.66      0.66       150\n",
      "\n",
      "Matrice di confusione:\n",
      "[[12  0  0  0  0  0  0  0  0  5]\n",
      " [ 0  9  0  0  1  0  0  0  0  0]\n",
      " [ 0  1 10  1  0  1  1  0  1  0]\n",
      " [ 0  2  3 11  1  2  0  0  0  0]\n",
      " [ 0  1  1  0  9  0  0  0  0  0]\n",
      " [ 0  0  1  0  4  6  0  1  2  0]\n",
      " [ 0  0  0  0  0  0 14  0  0  0]\n",
      " [ 1  1  0  0  1  3  0  8  4  1]\n",
      " [ 0  2  0  2  1  2  0  1  9  0]\n",
      " [ 1  1  0  0  1  0  0  0  0 11]]\n"
     ]
    },
    {
     "data": {
      "text/plain": [
       "<matplotlib.image.AxesImage at 0x22e944b9a48>"
      ]
     },
     "execution_count": 12,
     "metadata": {},
     "output_type": "execute_result"
    },
    {
     "data": {
      "image/png": "[encoded data removed]",
      "text/plain": [
       "<Figure size 432x288 with 1 Axes>"
      ]
     },
     "metadata": {
      "needs_background": "light"
     },
     "output_type": "display_data"
    }
   ],
   "source": [
    "# Test\n",
    "y_pred = clf2.predict(X_test)\n",
    "\n",
    "# Report di classificazione\n",
    "print(\"Report di classificazione:\")\n",
    "print(classification_report(y_test, y_pred))\n",
    "\n",
    "# Matrice di confusione\n",
    "print(\"Matrice di confusione:\")\n",
    "cm2 = confusion_matrix(y_test, y_pred)\n",
    "print(cm2)\n",
    "plt.imshow(cm2, cmap=plt.cm.Blues)"
   ]
  },
  {
   "cell_type": "markdown",
   "metadata": {},
   "source": [
    "Dai report di classificazione, è evidente il miglioramento apportato dal calcolo della ZCR. L'accuracy generale aumenta dal 46% al 66%, la matrice di confusione e la sua heatmap sono evidentemente \"diagonalizzate\". Solo per la cifra \"7\" non si rileva un miglioramento netto della capacità di classificazione.\n",
    "L'aggiunta della ZCR fornisce un proxy delle caratteristiche spettrali di un segnale, che sono a loro volta particolarmente legate alle vocali e consonanti che caratterizzano la dizione delle singole parole."
   ]
  }
 ],
 "metadata": {
  "kernelspec": {
   "display_name": "Python [conda env:dsim] *",
   "language": "python",
   "name": "conda-env-dsim-py"
  },
  "language_info": {
   "codemirror_mode": {
    "name": "ipython",
    "version": 3
   },
   "file_extension": ".py",
   "mimetype": "text/x-python",
   "name": "python",
   "nbconvert_exporter": "python",
   "pygments_lexer": "ipython3",
   "version": "3.7.4"
  }
 },
 "nbformat": 4,
 "nbformat_minor": 2
}

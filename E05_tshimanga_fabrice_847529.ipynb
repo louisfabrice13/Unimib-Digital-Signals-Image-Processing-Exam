{
 "cells": [
  {
   "cell_type": "markdown",
   "metadata": {},
   "source": [
    "# **Compito Esercitazione 5**\n",
    "\n",
    "* Import and Data Loading E5\n",
    "* **Modello Convoluzionale Multilayer**\n",
    "* Relazione"
   ]
  },
  {
   "cell_type": "markdown",
   "metadata": {},
   "source": [
    "# Import and Data Loading E5"
   ]
  },
  {
   "cell_type": "code",
   "execution_count": 1,
   "metadata": {},
   "outputs": [
    {
     "name": "stderr",
     "output_type": "stream",
     "text": [
      "Using TensorFlow backend.\n"
     ]
    },
    {
     "data": {
      "text/plain": [
       "'2.3.0'"
      ]
     },
     "execution_count": 1,
     "metadata": {},
     "output_type": "execute_result"
    }
   ],
   "source": [
    "import numpy as np\n",
    "import keras\n",
    "from keras.datasets import mnist\n",
    "from keras.models import Sequential\n",
    "from keras.layers import Dense, Flatten\n",
    "keras.__version__"
   ]
  },
  {
   "cell_type": "code",
   "execution_count": 2,
   "metadata": {},
   "outputs": [],
   "source": [
    "# Dataset predefinito offerto da keras\n",
    "(x_train, y_train), (x_test, y_test) = mnist.load_data()\n",
    "\n",
    "# Aggiunta dimensione canali\n",
    "x_train = np.expand_dims(x_train, axis=-1)\n",
    "x_test = np.expand_dims(x_test, axis=-1)\n",
    "x_train.shape\n",
    "\n",
    "# Conversione di tipo\n",
    "x_train = x_train.astype('float32')/255.0\n",
    "x_test = x_test.astype('float32')/255.0\n",
    "\n",
    "# Conversione in forma categorica\n",
    "num_classes = 10\n",
    "y_train = keras.utils.to_categorical(y_train, num_classes)\n",
    "y_test = keras.utils.to_categorical(y_test, num_classes)"
   ]
  },
  {
   "cell_type": "markdown",
   "metadata": {},
   "source": [
    "# Modello Convoluzionale Multilayer"
   ]
  },
  {
   "cell_type": "markdown",
   "metadata": {},
   "source": [
    "## Specifiche di modello:\n",
    "\n",
    "* Convoluzione bidimensionale con 32 filtri 3$\\times$3\n",
    "* ReLU\n",
    "* Max pooling bidimensionale con filtro 2$\\times$2\n",
    "* Flattening\n",
    "* Fully-connected che mappi a 128 dimensioni\n",
    "* ReLU\n",
    "* Fully-connected che mappi alla dimensione finale del problema"
   ]
  },
  {
   "cell_type": "code",
   "execution_count": 3,
   "metadata": {},
   "outputs": [
    {
     "name": "stdout",
     "output_type": "stream",
     "text": [
      "Model: \"sequential_1\"\n",
      "_________________________________________________________________\n",
      "Layer (type)                 Output Shape              Param #   \n",
      "=================================================================\n",
      "conv2d_1 (Conv2D)            (None, 26, 26, 32)        320       \n",
      "_________________________________________________________________\n",
      "max_pooling2d_1 (MaxPooling2 (None, 13, 13, 32)        0         \n",
      "_________________________________________________________________\n",
      "flatten_1 (Flatten)          (None, 5408)              0         \n",
      "_________________________________________________________________\n",
      "dense_1 (Dense)              (None, 128)               692352    \n",
      "_________________________________________________________________\n",
      "dense_2 (Dense)              (None, 10)                1290      \n",
      "=================================================================\n",
      "Total params: 693,962\n",
      "Trainable params: 693,962\n",
      "Non-trainable params: 0\n",
      "_________________________________________________________________\n"
     ]
    }
   ],
   "source": [
    "from keras.layers import Conv2D, MaxPooling2D\n",
    "\n",
    "mcm = Sequential()\n",
    "# Convoluzione bidimensionale con 32 filtri 3 × 3\n",
    "# ReLU\n",
    "mcm.add(Conv2D(32, kernel_size=3, activation='relu', input_shape=(28,28,1)))\n",
    "# Max pooling bidimensionale con filtro 2 × 2\n",
    "mcm.add(MaxPooling2D(2)) \n",
    "# Flattening\n",
    "mcm.add(Flatten())\n",
    "# Fully-connected che mappi a 128 dimensioni\n",
    "# ReLU\n",
    "mcm.add(Dense(128, activation='relu'))\n",
    "# Fully-connected che mappi alla dimensione finale del problema\n",
    "mcm.add(Dense(num_classes, activation='softmax'))\n",
    "\n",
    "mcm.summary()\n",
    "mcm.compile(loss=keras.losses.categorical_crossentropy,\n",
    "             optimizer=keras.optimizers.adam(),\n",
    "             metrics=['accuracy'])"
   ]
  },
  {
   "cell_type": "code",
   "execution_count": 4,
   "metadata": {},
   "outputs": [
    {
     "name": "stdout",
     "output_type": "stream",
     "text": [
      "Train on 60000 samples, validate on 10000 samples\n",
      "Epoch 1/1\n",
      "60000/60000 [==============================] - 60s 996us/step - loss: 0.2304 - accuracy: 0.9346 - val_loss: 0.0772 - val_accuracy: 0.9752\n"
     ]
    }
   ],
   "source": [
    "history = mcm.fit(x_train, y_train,\n",
    "          batch_size=128,\n",
    "          epochs=1,\n",
    "          verbose=1,\n",
    "          validation_data=(x_test, y_test))"
   ]
  },
  {
   "cell_type": "code",
   "execution_count": 5,
   "metadata": {},
   "outputs": [
    {
     "name": "stdout",
     "output_type": "stream",
     "text": [
      "Test loss: 0.0772314583349973\n",
      "Test accuracy: 0.9751999974250793\n"
     ]
    }
   ],
   "source": [
    "score = mcm.evaluate(x_test, y_test, verbose=0)\n",
    "print('Test loss:', score[0])\n",
    "print('Test accuracy:', score[1])"
   ]
  },
  {
   "cell_type": "code",
   "execution_count": 6,
   "metadata": {},
   "outputs": [
    {
     "name": "stdout",
     "output_type": "stream",
     "text": [
      "Train on 60000 samples, validate on 10000 samples\n",
      "Epoch 1/5\n",
      "60000/60000 [==============================] - 58s 971us/step - loss: 0.0675 - accuracy: 0.9803 - val_loss: 0.0570 - val_accuracy: 0.9814\n",
      "Epoch 2/5\n",
      "60000/60000 [==============================] - 52s 875us/step - loss: 0.0438 - accuracy: 0.9873 - val_loss: 0.0426 - val_accuracy: 0.9862\n",
      "Epoch 3/5\n",
      "60000/60000 [==============================] - 50s 831us/step - loss: 0.0301 - accuracy: 0.9908 - val_loss: 0.0442 - val_accuracy: 0.9855\n",
      "Epoch 4/5\n",
      "60000/60000 [==============================] - 52s 874us/step - loss: 0.0227 - accuracy: 0.9934 - val_loss: 0.0409 - val_accuracy: 0.9869\n",
      "Epoch 5/5\n",
      "60000/60000 [==============================] - 50s 840us/step - loss: 0.0156 - accuracy: 0.9955 - val_loss: 0.0353 - val_accuracy: 0.9883\n"
     ]
    }
   ],
   "source": [
    "mcm.compile(loss=keras.losses.categorical_crossentropy,\n",
    "             optimizer=keras.optimizers.adam(),\n",
    "             metrics=['accuracy'])\n",
    "history2 = mcm.fit(x_train, y_train,\n",
    "          batch_size=128,\n",
    "          epochs=5,\n",
    "          verbose=1,\n",
    "          validation_data=(x_test, y_test))"
   ]
  },
  {
   "cell_type": "code",
   "execution_count": 7,
   "metadata": {
    "collapsed": true
   },
   "outputs": [
    {
     "data": {
      "text/plain": [
       "<function matplotlib.pyplot.show(*args, **kw)>"
      ]
     },
     "execution_count": 7,
     "metadata": {},
     "output_type": "execute_result"
    }
   ],
   "source": [
    "import matplotlib.pyplot as plt"
   ]
  },
  {
   "cell_type": "code",
   "execution_count": 8,
   "metadata": {},
   "outputs": [
    {
     "data": {
      "text/plain": [
       "<function matplotlib.pyplot.show(*args, **kw)>"
      ]
     },
     "execution_count": 8,
     "metadata": {},
     "output_type": "execute_result"
    },
    {
     "data": {
      "image/png": "[encoded data removed]",
      "text/plain": [
       "<Figure size 432x432 with 1 Axes>"
      ]
     },
     "metadata": {
      "needs_background": "light"
     },
     "output_type": "display_data"
    }
   ],
   "source": [
    "plt.figure(figsize=(6,6))\n",
    "plt.xlabel('Epochs')\n",
    "plt.ylabel('Accuracy')\n",
    "x_plot = list(range(1,n_epochs+1))\n",
    "plt.plot(x_plot, history2.history['accuracy'])\n",
    "plt.plot(x_plot, history2.history['val_accuracy'])\n",
    "plt.legend(['Training', 'Validation'])\n",
    "plt.title('Accuracy for training, validation')\n",
    "plt.grid()\n",
    "plt.show"
   ]
  },
  {
   "cell_type": "markdown",
   "metadata": {},
   "source": [
    "# Relazione"
   ]
  },
  {
   "cell_type": "markdown",
   "metadata": {},
   "source": [
    "Il Modello Convoluzionale mostra un apprendimento rapido ed efficace già dalla prima epoca. \n",
    "Data la semplicità del problema e l'adattamento delle CNNs al riconoscimento di pattern, già alla terza epoca si nota un disaccoppiamento tra loss ed accuracy del validation set e quelle del training set, ossia un overfitting.\n",
    "Dataset più grandi per cardinalità, numero e varietà intra/interclasse invece richiedono modelli più profondi, con più parametri e non overfittano altrettanto facilmente."
   ]
  }
 ],
 "metadata": {
  "kernelspec": {
   "display_name": "Python [conda env:dsim] *",
   "language": "python",
   "name": "conda-env-dsim-py"
  },
  "language_info": {
   "codemirror_mode": {
    "name": "ipython",
    "version": 3
   },
   "file_extension": ".py",
   "mimetype": "text/x-python",
   "name": "python",
   "nbconvert_exporter": "python",
   "pygments_lexer": "ipython3",
   "version": "3.7.4"
  }
 },
 "nbformat": 4,
 "nbformat_minor": 2
}

{
  "nbformat": 4,
  "nbformat_minor": 0,
  "metadata": {
    "colab": {
      "name": "1-D Signal Processing Notebook Complete.ipynb",
      "provenance": [],
      "collapsed_sections": [],
      "toc_visible": true
    },
    "kernelspec": {
      "name": "python3",
      "display_name": "Python 3"
    }
  },
  "cells": [
    {
      "cell_type": "markdown",
      "metadata": {
        "id": "W5WZiow07nsT",
        "colab_type": "text"
      },
      "source": [
        "# WORKFLOW\n",
        "\n",
        "* SVM on simple features \n",
        "* MLP on simple features\n",
        "* MLP on whole signal\n",
        "* MLP on whole Fourier Transform\n",
        "* CNN1D on whole signal\n",
        "* CNN1D on Mel-Frequency Cepstral Coefficients"
      ]
    },
    {
      "cell_type": "code",
      "metadata": {
        "id": "F2mbSAGJsp19",
        "colab_type": "code",
        "colab": {
          "base_uri": "https://localhost:8080/",
          "height": 122
        },
        "outputId": "7a213f17-3899-4963-99d8-6cc22b064efb"
      },
      "source": [
        "from google.colab import drive\n",
        "drive.mount('/content/drive')"
      ],
      "execution_count": 1,
      "outputs": [
        {
          "output_type": "stream",
          "text": [
            "Go to this URL in a browser: https://accounts.google.com/o/oauth2/auth?client_id=947318989803-6bn6qk8qdgf4n4g3pfee6491hc0brc4i.apps.googleusercontent.com&redirect_uri=urn%3aietf%3awg%3aoauth%3a2.0%3aoob&scope=email%20https%3a%2f%2fwww.googleapis.com%2fauth%2fdocs.test%20https%3a%2f%2fwww.googleapis.com%2fauth%2fdrive%20https%3a%2f%2fwww.googleapis.com%2fauth%2fdrive.photos.readonly%20https%3a%2f%2fwww.googleapis.com%2fauth%2fpeopleapi.readonly&response_type=code\n",
            "\n",
            "Enter your authorization code:\n",
            "4/4AGz9Xg4pqy1ikkDXX62e_F21f9iVzfZV-2rkNSWHcRcUocg6YOVm08\n",
            "Mounted at /content/drive\n"
          ],
          "name": "stdout"
        }
      ]
    },
    {
      "cell_type": "code",
      "metadata": {
        "id": "-4QVf83us1rq",
        "colab_type": "code",
        "colab": {}
      },
      "source": [
        "path='/content/drive/My Drive/DSIM/recordings/'"
      ],
      "execution_count": 2,
      "outputs": []
    },
    {
      "cell_type": "code",
      "metadata": {
        "id": "GL7g_0ca7ntE",
        "colab_type": "code",
        "colab": {}
      },
      "source": [
        "import os\n",
        "import numpy as np\n",
        "from time import time\n",
        "from scipy.io import wavfile as wav\n",
        "from scipy.fftpack import rfft, fft, irfft, ifft, fftfreq\n",
        "from scipy.signal import fftconvolve\n",
        "\n",
        "import matplotlib.pyplot as plt\n",
        "import IPython.display as ipd\n",
        "\n",
        "# Strumenti di classificazione\n",
        "# SVM from sci-kit-learn\n",
        "from sklearn.svm import SVC\n",
        "from sklearn.model_selection import train_test_split, GridSearchCV\n",
        "from sklearn.metrics import classification_report, confusion_matrix\n",
        "# NNs from keras\n",
        "import tensorflow as tf\n",
        "from tensorflow.keras.utils import to_categorical\n",
        "from tensorflow.keras.models import Sequential\n",
        "from tensorflow.keras.layers import Dense, Flatten, Activation, Dropout\n",
        "from tensorflow.keras.layers import Conv2D, Conv1D, MaxPool2D, MaxPool1D, AveragePooling2D, AveragePooling1D\n",
        "from tensorflow.keras.layers import GRU"
      ],
      "execution_count": 3,
      "outputs": []
    },
    {
      "cell_type": "markdown",
      "metadata": {
        "id": "FN-IauL47nt9",
        "colab_type": "text"
      },
      "source": [
        "# SVM on Extracted Features"
      ]
    },
    {
      "cell_type": "markdown",
      "metadata": {
        "id": "WJTa4f3ynSO3",
        "colab_type": "text"
      },
      "source": [
        "In this section we define data loader function and feature extraction functions (particularly absolute average, standard deviation, energy and zcr of the signal). Analogous functions for the MLP to come."
      ]
    },
    {
      "cell_type": "code",
      "metadata": {
        "id": "D9LGAFS07nuE",
        "colab_type": "code",
        "colab": {}
      },
      "source": [
        "# Segnaposto per feature extractor\n",
        "def identity(input):\n",
        "    return input\n",
        "\n",
        "# Data loader\n",
        "def svm_load_data(feature_extractor=identity, normalize=True):\n",
        "\n",
        "    labels = []\n",
        "    features = []\n",
        "\n",
        "    for f in sorted(os.listdir('/content/drive/My Drive/DSIM/recordings')):\n",
        "        if f.endswith('.wav'):\n",
        "            # Carica file ed estraine le features\n",
        "            _, signal = wav.read('/content/drive/My Drive/DSIM/recordings/' + f)\n",
        "            cur_features = feature_extractor(signal)\n",
        "            features.append(cur_features)\n",
        "\n",
        "            # Categorie\n",
        "            label = f.split('_')[1]\n",
        "            if label not in ('alessandro', 'fabrice', 'davide'):\n",
        "                label = 'unknown_person'\n",
        "            labels.append(label)\n",
        "        else:\n",
        "            print(f)\n",
        "\n",
        "    # X: features, y: labels\n",
        "    X_train, X_test, y_train, y_test = train_test_split(features, labels, test_size=0.2, random_state=1)\n",
        "\n",
        "    if normalize:\n",
        "        eps = 0.001\n",
        "        X_train = np.array(X_train)\n",
        "        X_train_mean = X_train.mean(axis=0)\n",
        "        X_train_std = X_train.std(axis=0)\n",
        "        X_train = (X_train - X_train_mean + eps)/(X_train_std + eps)\n",
        "        X_train = [row for row in X_train]\n",
        "\n",
        "        X_test = [row for row in (np.array(X_test) - X_train_mean + eps)/(X_train_std + eps)]\n",
        "\n",
        "    return X_train, X_test, y_train, y_test"
      ],
      "execution_count": null,
      "outputs": []
    },
    {
      "cell_type": "code",
      "metadata": {
        "id": "pFcgxOEg7nuW",
        "colab_type": "code",
        "colab": {}
      },
      "source": [
        "# Funzioni di Preprocessing\n",
        "def crop(input, size=100):\n",
        "    # Elimina eventuali valori oltre il numero consentito\n",
        "    output = input[0:min(size, input.shape[0])]\n",
        "    # Aggiungi valori nulli per raggiungere la dimensione richiesta\n",
        "    output = np.concatenate((output, np.zeros(size-output.shape[0])))\n",
        "    return output\n",
        "def svm_sdev(input):\n",
        "    return np.std(input, keepdims=True)\n",
        "def svm_avg(input):\n",
        "    return np.mean(input, keepdims=True)\n",
        "\n",
        "def svm_aavg(input):\n",
        "    return np.mean(np.abs(input), keepdims=True)\n",
        "def svm_duration(input):\n",
        "    return input.shape\n",
        "def svm_energy(input):\n",
        "    return np.sum((input*1.0)**2, keepdims=True)\n",
        "def svm_zcr(input):\n",
        "    padinput = np.array(crop(input, input.shape[0]+1)) \n",
        "    # si aggiunge alla sequenza un termine nullo, per avere lo slot per il segnale 1-lag\n",
        "    \n",
        "    scsv = np.zeros_like(padinput) # segnale 1-lag inizializzato a valori nulli \n",
        "    scsv[1:] = np.array(crop(input, input.shape[0])) # valori del segnale originale inseriti con lag pari a 1\n",
        "    \n",
        "    zc_count = 0.5*np.sum(np.absolute(np.sign(padinput)-np.sign(scsv)))\n",
        "    # cfr formula scritta sopra, qui la sommatoria ha una finestra pari alla lunghezza dei segnali\n",
        "    # si deve passare da frequenza assoluta a relativa\n",
        "    zc_rate = zc_count / len(padinput)\n",
        "    \n",
        "    return (zc_rate, )"
      ],
      "execution_count": 8,
      "outputs": []
    },
    {
      "cell_type": "code",
      "metadata": {
        "id": "SMl1ehcU7nvM",
        "colab_type": "code",
        "colab": {}
      },
      "source": [
        "# Feature Extractor\n",
        "def svm_combo_zcr(input):\n",
        "    return np.concatenate((svm_aavg(input),svm_sdev(input),svm_energy(input),svm_zcr(input)))"
      ],
      "execution_count": null,
      "outputs": []
    },
    {
      "cell_type": "code",
      "metadata": {
        "id": "pHLXAF1LVBvT",
        "colab_type": "code",
        "colab": {}
      },
      "source": [
        "# Save/Load\n",
        "def saver(array, name):\n",
        "  file = open(name, \"wb\")\n",
        "  # save array to the file\n",
        "  np.save(file, array)\n",
        "  # close the file\n",
        "  file.close()\n",
        "def loader(name):\n",
        "  # open the file in read binary mode\n",
        "  file = open(name, \"rb\")\n",
        "  #read the file to numpy array\n",
        "  arr1 = np.load(file, allow_pickle=True)\n",
        "  #close the file\n",
        "  file.close()\n",
        "  return arr1"
      ],
      "execution_count": 5,
      "outputs": []
    },
    {
      "cell_type": "code",
      "metadata": {
        "id": "iDFvA1BjIt57",
        "colab_type": "code",
        "colab": {}
      },
      "source": [
        "path='/content/drive/My Drive/DSIM/recordings/'"
      ],
      "execution_count": null,
      "outputs": []
    },
    {
      "cell_type": "code",
      "metadata": {
        "id": "f7eVv-Vz7nvS",
        "colab_type": "code",
        "colab": {
          "base_uri": "https://localhost:8080/",
          "height": 34
        },
        "outputId": "5b1dbea5-0e9f-4a34-8a93-5318622eefda"
      },
      "source": [
        "# Caricamento dati\n",
        "#svmX_train, svmX_test, svmy_train, svmy_test = svm_load_data(feature_extractor=svm_combo_zcr)\n",
        "\n",
        "#saver(svmX_train,path+'svmX_train'); saver(svmX_test, path+'svmX_test'); saver(svmy_train, path+'svmy_train'); saver(svmy_test,path+'svmy_test');\n",
        "svmX_train=loader(path+'svmX_train'); svmX_test=loader(path+'svmX_test'); svmy_train=loader(path+'svmy_train'); svmy_test=loader(path+'svmy_test');\n",
        "\n",
        "\n",
        "# Parametri da provare in cross validation\n",
        "param_grid = {'C': [1e2, 5e2, 1e3],\n",
        "          'gamma': [0.005, 0.01, 0.1, 0.5, 1.0], }\n",
        "\n",
        "# Inizializzazione Support Vector Machine\n",
        "clf = GridSearchCV(SVC(kernel='rbf', class_weight='balanced'), param_grid, cv=2)\n",
        "\n",
        "# Addestramento\n",
        "t0 = time()\n",
        "clf = clf.fit(svmX_train, svmy_train)\n",
        "print(\"Addestramento completato in %0.3fs\" % (time() - t0))"
      ],
      "execution_count": null,
      "outputs": [
        {
          "output_type": "stream",
          "text": [
            "Addestramento completato in 0.987s\n"
          ],
          "name": "stdout"
        }
      ]
    },
    {
      "cell_type": "code",
      "metadata": {
        "id": "d1OED4QD7nvk",
        "colab_type": "code",
        "colab": {
          "base_uri": "https://localhost:8080/",
          "height": 68
        },
        "outputId": "3ebd13fe-3f5f-4230-af85-847f3e47c386"
      },
      "source": [
        "# Risultato della cross validation per la selezione dei parametri\n",
        "print(\"Migliore combinazione di parametri:\")\n",
        "print(\" C: \"+str(clf.best_estimator_.C))\n",
        "print(\" gamma: \"+str(clf.best_estimator_.gamma))"
      ],
      "execution_count": null,
      "outputs": [
        {
          "output_type": "stream",
          "text": [
            "Migliore combinazione di parametri:\n",
            " C: 500.0\n",
            " gamma: 0.01\n"
          ],
          "name": "stdout"
        }
      ]
    },
    {
      "cell_type": "code",
      "metadata": {
        "id": "ks3YE5Ye7nwW",
        "colab_type": "code",
        "colab": {
          "base_uri": "https://localhost:8080/",
          "height": 575
        },
        "outputId": "2848de9d-ddcc-47eb-b38d-d06c559033f8"
      },
      "source": [
        "# Test\n",
        "svmy_pred = clf.predict(svmX_test)\n",
        "\n",
        "# Report di classificazione\n",
        "print(\"Report di classificazione:\")\n",
        "print(classification_report(svmy_test, svmy_pred))\n",
        "\n",
        "# Matrice di confusione\n",
        "print(\"Matrice di confusione:\")\n",
        "cm = confusion_matrix(svmy_test, svmy_pred)\n",
        "print(cm)\n",
        "plt.imshow(cm, cmap=plt.cm.Blues)"
      ],
      "execution_count": null,
      "outputs": [
        {
          "output_type": "stream",
          "text": [
            "Report di classificazione:\n",
            "                precision    recall  f1-score   support\n",
            "\n",
            "    alessandro       0.89      0.99      0.94       118\n",
            "        davide       0.92      0.78      0.85       106\n",
            "       fabrice       0.92      0.95      0.94       115\n",
            "unknown_person       1.00      1.00      1.00       310\n",
            "\n",
            "      accuracy                           0.95       649\n",
            "     macro avg       0.93      0.93      0.93       649\n",
            "  weighted avg       0.95      0.95      0.95       649\n",
            "\n",
            "Matrice di confusione:\n",
            "[[117   1   0   0]\n",
            " [ 14  83   9   0]\n",
            " [  0   6 109   0]\n",
            " [  0   0   0 310]]\n"
          ],
          "name": "stdout"
        },
        {
          "output_type": "execute_result",
          "data": {
            "text/plain": [
              "<matplotlib.image.AxesImage at 0x7fb9977a31d0>"
            ]
          },
          "metadata": {
            "tags": []
          },
          "execution_count": 10
        },
        {
          "output_type": "display_data",
          "data": {
            "image/png": "[encoded data removed]",
            "text/plain": [
              "<Figure size 432x288 with 1 Axes>"
            ]
          },
          "metadata": {
            "tags": [],
            "needs_background": "light"
          }
        }
      ]
    },
    {
      "cell_type": "code",
      "metadata": {
        "id": "d6k_bcHtWJdo",
        "colab_type": "code",
        "colab": {}
      },
      "source": [
        "X_whole = np.concatenate((svmX_train, svmX_test), axis=0)\n",
        "y_whole = np.concatenate((svmy_train, svmy_test), axis=0)\n",
        "\n",
        "clf.fit(X_whole, y_whole)"
      ],
      "execution_count": null,
      "outputs": []
    },
    {
      "cell_type": "code",
      "metadata": {
        "id": "KOG37G4ZHNRx",
        "colab_type": "code",
        "colab": {
          "base_uri": "https://localhost:8080/",
          "height": 88
        },
        "outputId": "a368f422-e43a-420c-8630-0cfeb7d16bfa"
      },
      "source": [
        "from sklearn.externals import joblib\n",
        "joblib.dump(clf.best_estimator_, path+'svm.pkl', compress=1)"
      ],
      "execution_count": null,
      "outputs": [
        {
          "output_type": "stream",
          "text": [
            "/usr/local/lib/python3.6/dist-packages/sklearn/externals/joblib/__init__.py:15: FutureWarning: sklearn.externals.joblib is deprecated in 0.21 and will be removed in 0.23. Please import this functionality directly from joblib, which can be installed with: pip install joblib. If this warning is raised when loading pickled models, you may need to re-serialize those models with scikit-learn 0.21+.\n",
            "  warnings.warn(msg, category=FutureWarning)\n"
          ],
          "name": "stderr"
        },
        {
          "output_type": "execute_result",
          "data": {
            "text/plain": [
              "['/content/drive/My Drive/DSIM/recordings/svm.pkl']"
            ]
          },
          "metadata": {
            "tags": []
          },
          "execution_count": 9
        }
      ]
    },
    {
      "cell_type": "markdown",
      "metadata": {
        "id": "aqvRrjKn7nwi",
        "colab_type": "text"
      },
      "source": [
        "# MLP on Extracted Features"
      ]
    },
    {
      "cell_type": "markdown",
      "metadata": {
        "id": "bG_fte_Rqg3h",
        "colab_type": "text"
      },
      "source": [
        "Instantiation of MLP with same features as fed to SVM"
      ]
    },
    {
      "cell_type": "code",
      "metadata": {
        "id": "Q9DAqBVp7nwk",
        "colab_type": "code",
        "colab": {}
      },
      "source": [
        "def mlp_load_data(feature_extractor=identity, normalize=True):\n",
        "\n",
        "    labels = []\n",
        "    features = []\n",
        "    labelling = {'alessandro': 1,\n",
        "                'fabrice': 2,\n",
        "                'davide': 3,\n",
        "                'unknown_person':0}\n",
        "\n",
        "    for f in sorted(os.listdir('/content/drive/My Drive/DSIM/recordings')):\n",
        "        if f.endswith('.wav'):\n",
        "            # Carica file ed estraine le features\n",
        "            _, signal = wav.read('/content/drive/My Drive/DSIM/recordings/' + f)\n",
        "            cur_features = feature_extractor(signal)\n",
        "            cur_features = np.asarray(cur_features)\n",
        "            features.append(cur_features)\n",
        "\n",
        "            # Categorie\n",
        "            label = f.split('_')[1]\n",
        "            if label not in ('alessandro', 'fabrice', 'davide'):\n",
        "                label = 'unknown_person'\n",
        "            label = labelling[label]\n",
        "            labels.append(label)\n",
        "        else:\n",
        "            print(f)\n",
        "\n",
        "    # X: features, y: labels\n",
        "    num_classes = len(labelling)\n",
        "    X_train, X_test, y_train, y_test = train_test_split(np.asarray(features), np.asarray(labels), test_size=0.2, random_state=1)\n",
        "    y_train = to_categorical(y_train, num_classes)\n",
        "    y_test = to_categorical(y_test, num_classes)\n",
        "    \n",
        "    if normalize:\n",
        "        eps = 0.001\n",
        "        X_train = np.array(X_train)\n",
        "        X_train_mean = X_train.mean(axis=0)\n",
        "        X_train_std = X_train.std(axis=0)\n",
        "        X_train = (X_train - X_train_mean + eps)/(X_train_std + eps)\n",
        "        X_train = [row for row in X_train]\n",
        "\n",
        "        X_test = [row for row in (np.array(X_test) - X_train_mean + eps)/(X_train_std + eps)]\n",
        "        \n",
        "        X_train = np.asarray(X_train)\n",
        "        X_test = np.asarray(X_test)\n",
        "\n",
        "    return X_train, X_test, y_train, y_test, num_classes"
      ],
      "execution_count": null,
      "outputs": []
    },
    {
      "cell_type": "code",
      "metadata": {
        "id": "iXSw3Ton7nxQ",
        "colab_type": "code",
        "colab": {}
      },
      "source": [
        "def sdev(input):\n",
        "    sdv = np.std(input)\n",
        "    sdv = np.asarray(sdv)\n",
        "    return sdv\n",
        "def avg(input):\n",
        "    avg = np.mean(input)\n",
        "    avg = np.asarray(sdv)\n",
        "    return avg\n",
        "def aavg(input):\n",
        "    aavg = np.mean(np.abs(input))\n",
        "    aavg = np.asarray(aavg)\n",
        "    return aavg\n",
        "def duration(input):\n",
        "    dura = input.shape[0]\n",
        "    dura = np.asarray(input.shape[0])\n",
        "    return dura\n",
        "def energy(input):\n",
        "    ene = np.sum((input*1.0)**2)\n",
        "    ene = np.asarray(ene)\n",
        "    return ene\n",
        "def zcr(input):\n",
        "    padinput = np.array(crop(input, input.shape[0]+1)) \n",
        "    # si aggiunge alla sequenza un termine nullo, per avere lo slot per il segnale 1-lag\n",
        "    \n",
        "    scsv = np.zeros_like(padinput) # segnale 1-lag inizializzato a valori nulli \n",
        "    scsv[1:] = np.array(crop(input, input.shape[0])) # valori del segnale originale inseriti con lag pari a 1\n",
        "    \n",
        "    zc_count = 0.5*np.sum(np.absolute(np.sign(padinput)-np.sign(scsv)))\n",
        "    # cfr formula scritta sopra, qui la sommatoria ha una finestra pari alla lunghezza dei segnali\n",
        "    # si deve passare da frequenza assoluta a relativa\n",
        "    zc_rate = zc_count / len(padinput)\n",
        "    zc_rate = np.asarray(zc_rate)\n",
        "    return zc_rate\n",
        "def combo_zcr(input):\n",
        "    return list((aavg(input),sdev(input),energy(input),zcr(input)))"
      ],
      "execution_count": null,
      "outputs": []
    },
    {
      "cell_type": "code",
      "metadata": {
        "scrolled": false,
        "id": "eebQgY--7nxf",
        "colab_type": "code",
        "colab": {
          "base_uri": "https://localhost:8080/",
          "height": 34
        },
        "outputId": "a07f6d0c-c648-41a6-9828-ffc9e4c7a130"
      },
      "source": [
        "#X_train, X_test, y_train, y_test, num_classes = mlp_load_data(feature_extractor=combo_zcr, normalize=True)\n",
        "#saver(X_train,path+'X_train_mlpfeat'); saver(X_test, path+'X_test_mlpfeat'); saver(y_train, path+'y_train_mlpfeat'); saver(y_test,path+'y_test_mlpfeat');\n",
        "X_train=loader(path+'X_train_mlpfeat'); X_test=loader(path+'X_test_mlpfeat'); y_train=loader(path+'y_train_mlpfeat'); y_test=loader(path+'y_test_mlpfeat'); num_classes=4;\n",
        "\n",
        "X_train[0]"
      ],
      "execution_count": null,
      "outputs": [
        {
          "output_type": "execute_result",
          "data": {
            "text/plain": [
              "array([ 0.97952555,  0.90985981,  0.02543129, -0.30120914])"
            ]
          },
          "metadata": {
            "tags": []
          },
          "execution_count": 10
        }
      ]
    },
    {
      "cell_type": "code",
      "metadata": {
        "id": "8mWPf_WJ7nyR",
        "colab_type": "code",
        "colab": {
          "base_uri": "https://localhost:8080/",
          "height": 289
        },
        "outputId": "3052de92-08bf-4f29-d347-011d6b79a29b"
      },
      "source": [
        "# MLP su classificazione voci\n",
        "dims = X_train.shape[1]\n",
        "\n",
        "mlp = Sequential()\n",
        "mlp.add(Dense(32, input_shape=(dims,), activation='relu'))\n",
        "mlp.add(Dense(16, activation='relu'))\n",
        "mlp.add(Dense(num_classes))\n",
        "mlp.add(Activation('softmax'))\n",
        "\n",
        "mlp.summary()\n",
        "mlp.compile(loss=tf.keras.losses.categorical_crossentropy,\n",
        "             optimizer=tf.keras.optimizers.Adam(),\n",
        "             metrics=['accuracy'])"
      ],
      "execution_count": null,
      "outputs": [
        {
          "output_type": "stream",
          "text": [
            "Model: \"sequential\"\n",
            "_________________________________________________________________\n",
            "Layer (type)                 Output Shape              Param #   \n",
            "=================================================================\n",
            "dense (Dense)                (None, 32)                160       \n",
            "_________________________________________________________________\n",
            "dense_1 (Dense)              (None, 16)                528       \n",
            "_________________________________________________________________\n",
            "dense_2 (Dense)              (None, 4)                 68        \n",
            "_________________________________________________________________\n",
            "activation (Activation)      (None, 4)                 0         \n",
            "=================================================================\n",
            "Total params: 756\n",
            "Trainable params: 756\n",
            "Non-trainable params: 0\n",
            "_________________________________________________________________\n"
          ],
          "name": "stdout"
        }
      ]
    },
    {
      "cell_type": "code",
      "metadata": {
        "id": "uW3e513X7nyf",
        "colab_type": "code",
        "colab": {
          "base_uri": "https://localhost:8080/",
          "height": 666
        },
        "outputId": "6c379649-910d-46ff-fda0-d575b0f71946"
      },
      "source": [
        "t0 = time()\n",
        "mlp_history = mlp.fit(X_train, y_train, epochs=18, batch_size=64, verbose=True, validation_data=(X_test, y_test))\n",
        "print(\"Addestramento completato in %0.3fs\" % (time() - t0))"
      ],
      "execution_count": null,
      "outputs": [
        {
          "output_type": "stream",
          "text": [
            "Epoch 1/18\n",
            "41/41 [==============================] - 0s 6ms/step - loss: 1.3169 - accuracy: 0.4873 - val_loss: 1.1382 - val_accuracy: 0.6780\n",
            "Epoch 2/18\n",
            "41/41 [==============================] - 0s 3ms/step - loss: 0.9798 - accuracy: 0.7664 - val_loss: 0.8513 - val_accuracy: 0.7458\n",
            "Epoch 3/18\n",
            "41/41 [==============================] - 0s 3ms/step - loss: 0.7354 - accuracy: 0.7895 - val_loss: 0.6812 - val_accuracy: 0.7735\n",
            "Epoch 4/18\n",
            "41/41 [==============================] - 0s 3ms/step - loss: 0.6081 - accuracy: 0.8130 - val_loss: 0.5940 - val_accuracy: 0.7889\n",
            "Epoch 5/18\n",
            "41/41 [==============================] - 0s 3ms/step - loss: 0.5367 - accuracy: 0.8412 - val_loss: 0.5293 - val_accuracy: 0.8197\n",
            "Epoch 6/18\n",
            "41/41 [==============================] - 0s 3ms/step - loss: 0.4815 - accuracy: 0.8562 - val_loss: 0.4806 - val_accuracy: 0.8166\n",
            "Epoch 7/18\n",
            "41/41 [==============================] - 0s 3ms/step - loss: 0.4372 - accuracy: 0.8597 - val_loss: 0.4443 - val_accuracy: 0.8166\n",
            "Epoch 8/18\n",
            "41/41 [==============================] - 0s 3ms/step - loss: 0.3984 - accuracy: 0.8736 - val_loss: 0.3982 - val_accuracy: 0.8475\n",
            "Epoch 9/18\n",
            "41/41 [==============================] - 0s 3ms/step - loss: 0.3667 - accuracy: 0.8878 - val_loss: 0.3701 - val_accuracy: 0.8690\n",
            "Epoch 10/18\n",
            "41/41 [==============================] - 0s 3ms/step - loss: 0.3374 - accuracy: 0.8959 - val_loss: 0.3371 - val_accuracy: 0.9106\n",
            "Epoch 11/18\n",
            "41/41 [==============================] - 0s 3ms/step - loss: 0.3129 - accuracy: 0.9113 - val_loss: 0.3159 - val_accuracy: 0.8968\n",
            "Epoch 12/18\n",
            "41/41 [==============================] - 0s 3ms/step - loss: 0.2933 - accuracy: 0.9129 - val_loss: 0.2931 - val_accuracy: 0.9076\n",
            "Epoch 13/18\n",
            "41/41 [==============================] - 0s 3ms/step - loss: 0.2772 - accuracy: 0.9144 - val_loss: 0.2797 - val_accuracy: 0.9091\n",
            "Epoch 14/18\n",
            "41/41 [==============================] - 0s 3ms/step - loss: 0.2601 - accuracy: 0.9264 - val_loss: 0.2601 - val_accuracy: 0.9245\n",
            "Epoch 15/18\n",
            "41/41 [==============================] - 0s 3ms/step - loss: 0.2457 - accuracy: 0.9287 - val_loss: 0.2468 - val_accuracy: 0.9153\n",
            "Epoch 16/18\n",
            "41/41 [==============================] - 0s 3ms/step - loss: 0.2338 - accuracy: 0.9302 - val_loss: 0.2318 - val_accuracy: 0.9414\n",
            "Epoch 17/18\n",
            "41/41 [==============================] - 0s 3ms/step - loss: 0.2211 - accuracy: 0.9375 - val_loss: 0.2208 - val_accuracy: 0.9322\n",
            "Epoch 18/18\n",
            "41/41 [==============================] - 0s 3ms/step - loss: 0.2120 - accuracy: 0.9402 - val_loss: 0.2104 - val_accuracy: 0.9430\n",
            "Addestramento completato in 4.746s\n"
          ],
          "name": "stdout"
        }
      ]
    },
    {
      "cell_type": "code",
      "metadata": {
        "id": "WVKWgwPi7nyl",
        "colab_type": "code",
        "colab": {
          "base_uri": "https://localhost:8080/",
          "height": 282
        },
        "outputId": "1db85a09-64c7-4c97-e7e1-b037b5de7faa"
      },
      "source": [
        "plt.plot(mlp_history.history['val_accuracy'])"
      ],
      "execution_count": null,
      "outputs": [
        {
          "output_type": "execute_result",
          "data": {
            "text/plain": [
              "[<matplotlib.lines.Line2D at 0x7fb93a622a20>]"
            ]
          },
          "metadata": {
            "tags": []
          },
          "execution_count": 17
        },
        {
          "output_type": "display_data",
          "data": {
            "image/png": "[encoded data removed]",
            "text/plain": [
              "<Figure size 432x288 with 1 Axes>"
            ]
          },
          "metadata": {
            "tags": [],
            "needs_background": "light"
          }
        }
      ]
    },
    {
      "cell_type": "code",
      "metadata": {
        "id": "X00xvNXl7nzW",
        "colab_type": "code",
        "colab": {
          "base_uri": "https://localhost:8080/",
          "height": 295
        },
        "outputId": "9ccc2731-dc93-406d-d272-4dda44209003"
      },
      "source": [
        "plt.plot(mlp_history.history['accuracy'], \"b--\", label=\"Accuracy on training data\")\n",
        "plt.plot(mlp_history.history['val_accuracy'], \"b\", label=\"Accuracy on validation data\")\n",
        "plt.plot(mlp_history.history['loss'], \"r--\", label=\"Loss on training data\")\n",
        "plt.plot(mlp_history.history['val_loss'], \"r\", label=\"Loss on validation data\")\n",
        "plt.title('Model Accuracy and Loss')\n",
        "plt.ylabel('Accuracy and Loss')\n",
        "plt.xlabel('Training Epoch')\n",
        "plt.ylim(0,2)\n",
        "plt.legend()\n",
        "plt.show()"
      ],
      "execution_count": null,
      "outputs": [
        {
          "output_type": "display_data",
          "data": {
            "image/png": "[encoded data removed]",
            "text/plain": [
              "<Figure size 432x288 with 1 Axes>"
            ]
          },
          "metadata": {
            "tags": [],
            "needs_background": "light"
          }
        }
      ]
    },
    {
      "cell_type": "code",
      "metadata": {
        "id": "6C3bHaqE7nzb",
        "colab_type": "code",
        "colab": {}
      },
      "source": [
        "delabelling = {1: 'alessandro',\n",
        "                2: 'fabrice',\n",
        "                3: 'davide',\n",
        "                0: 'unknown_person'}\n",
        "\n",
        "def ricateg(y_pred):\n",
        "    y_pred = [y_pred.argmax(1)]\n",
        "    y_pred = [delabelling[y_pred[0][i]] for i in range(len(y_pred[0]))]\n",
        "    return y_pred"
      ],
      "execution_count": null,
      "outputs": []
    },
    {
      "cell_type": "code",
      "metadata": {
        "id": "AUw2oBfw7nzg",
        "colab_type": "code",
        "colab": {
          "base_uri": "https://localhost:8080/",
          "height": 575
        },
        "outputId": "2aeed92a-7f45-4290-9874-a10b28231a31"
      },
      "source": [
        "# Test\n",
        "y_pred = mlp.predict(X_test)\n",
        "y_pred_cr = ricateg(y_pred)\n",
        "y_test_cr = ricateg(y_test)\n",
        "# Report di classificazione\n",
        "print(\"Report di classificazione:\")\n",
        "print(classification_report(y_test_cr, y_pred_cr))\n",
        "\n",
        "# Matrice di confusione\n",
        "print(\"Matrice di confusione:\")\n",
        "mlp_cm = confusion_matrix(y_test_cr, y_pred_cr)\n",
        "print(mlp_cm)\n",
        "plt.imshow(mlp_cm, cmap=plt.cm.Blues)"
      ],
      "execution_count": null,
      "outputs": [
        {
          "output_type": "stream",
          "text": [
            "Report di classificazione:\n",
            "                precision    recall  f1-score   support\n",
            "\n",
            "    alessandro       0.88      0.96      0.91       118\n",
            "        davide       0.88      0.78      0.83       106\n",
            "       fabrice       0.92      0.95      0.93       115\n",
            "unknown_person       1.00      0.99      1.00       310\n",
            "\n",
            "      accuracy                           0.94       649\n",
            "     macro avg       0.92      0.92      0.92       649\n",
            "  weighted avg       0.94      0.94      0.94       649\n",
            "\n",
            "Matrice di confusione:\n",
            "[[113   5   0   0]\n",
            " [ 13  83  10   0]\n",
            " [  0   6 109   0]\n",
            " [  3   0   0 307]]\n"
          ],
          "name": "stdout"
        },
        {
          "output_type": "execute_result",
          "data": {
            "text/plain": [
              "<matplotlib.image.AxesImage at 0x7fb93a3b41d0>"
            ]
          },
          "metadata": {
            "tags": []
          },
          "execution_count": 20
        },
        {
          "output_type": "display_data",
          "data": {
            "image/png": "[encoded data removed]",
            "text/plain": [
              "<Figure size 432x288 with 1 Axes>"
            ]
          },
          "metadata": {
            "tags": [],
            "needs_background": "light"
          }
        }
      ]
    },
    {
      "cell_type": "code",
      "metadata": {
        "id": "4TxUXJj6XS38",
        "colab_type": "code",
        "colab": {}
      },
      "source": [
        "mlp.compile(loss=tf.keras.losses.categorical_crossentropy,\n",
        "             optimizer=tf.keras.optimizers.Adam(),\n",
        "             metrics=['accuracy'])\n",
        "X_whole = np.concatenate((X_train, X_test), axis=0)\n",
        "y_whole = np.concatenate((y_train, y_test), axis=0)"
      ],
      "execution_count": null,
      "outputs": []
    },
    {
      "cell_type": "code",
      "metadata": {
        "id": "2ENUnP7iG-lG",
        "colab_type": "code",
        "colab": {
          "base_uri": "https://localhost:8080/",
          "height": 156
        },
        "outputId": "dc8d4d7a-9a68-4bb8-8f3e-5d11ffe7ba4b"
      },
      "source": [
        "mlp.save(path+'mlp')"
      ],
      "execution_count": null,
      "outputs": [
        {
          "output_type": "stream",
          "text": [
            "WARNING:tensorflow:From /usr/local/lib/python3.6/dist-packages/tensorflow/python/training/tracking/tracking.py:111: Model.state_updates (from tensorflow.python.keras.engine.training) is deprecated and will be removed in a future version.\n",
            "Instructions for updating:\n",
            "This property should not be used in TensorFlow 2.0, as updates are applied automatically.\n",
            "WARNING:tensorflow:From /usr/local/lib/python3.6/dist-packages/tensorflow/python/training/tracking/tracking.py:111: Layer.updates (from tensorflow.python.keras.engine.base_layer) is deprecated and will be removed in a future version.\n",
            "Instructions for updating:\n",
            "This property should not be used in TensorFlow 2.0, as updates are applied automatically.\n",
            "INFO:tensorflow:Assets written to: /content/drive/My Drive/DSIM/recordings/mlp/assets\n"
          ],
          "name": "stdout"
        }
      ]
    },
    {
      "cell_type": "markdown",
      "metadata": {
        "id": "-f80tdHNqxMg",
        "colab_type": "text"
      },
      "source": [
        "Performance quite similar to that of SVM"
      ]
    },
    {
      "cell_type": "markdown",
      "metadata": {
        "id": "duRmf_c17nzs",
        "colab_type": "text"
      },
      "source": [
        "# MLP on Signal"
      ]
    },
    {
      "cell_type": "code",
      "metadata": {
        "id": "ww17Nd597nzu",
        "colab_type": "code",
        "colab": {
          "base_uri": "https://localhost:8080/",
          "height": 284
        },
        "outputId": "3e68aa39-c99b-4a78-8aad-1cf3efbfb69c"
      },
      "source": [
        "#X_train, X_test, y_train, y_test, num_classes = mlp_load_data(normalize=False)\n",
        "#saver(X_train,path+'X_train_mlpsig'); saver(X_test, path+'X_test_mlpsig'); saver(y_train, path+'y_train_mlpsig'); saver(y_test,path+'y_test_mlpsig');\n",
        "X_train=loader(path+'X_train_mlpsig'); X_test=loader(path+'X_test_mlpsig'); y_train=loader(path+'y_train_mlpsig'); y_test=loader(path+'y_test_mlpsig'); num_classes=4;\n",
        "\n",
        "plt.plot(X_train[0])"
      ],
      "execution_count": 6,
      "outputs": [
        {
          "output_type": "execute_result",
          "data": {
            "text/plain": [
              "[<matplotlib.lines.Line2D at 0x7ff2bfcbdf60>]"
            ]
          },
          "metadata": {
            "tags": []
          },
          "execution_count": 6
        },
        {
          "output_type": "display_data",
          "data": {
            "image/png": "[encoded data removed]",
            "text/plain": [
              "<Figure size 432x288 with 1 Axes>"
            ]
          },
          "metadata": {
            "tags": [],
            "needs_background": "light"
          }
        }
      ]
    },
    {
      "cell_type": "code",
      "metadata": {
        "id": "nsyB9VLK7n0j",
        "colab_type": "code",
        "colab": {}
      },
      "source": [
        "lengths = [len(X_train[i]) for i in range(len(X_train))]\n",
        "max_length = np.max(lengths)\n",
        "X_train = [crop(X_train[i], max_length) for i in range(len(X_train))]\n",
        "X_train = np.asarray(X_train)\n",
        "X_test = [crop(X_test[i], max_length) for i in range(len(X_test))]\n",
        "X_test = np.asarray(X_test)"
      ],
      "execution_count": 9,
      "outputs": []
    },
    {
      "cell_type": "code",
      "metadata": {
        "id": "wqXFvuon7n0y",
        "colab_type": "code",
        "colab": {}
      },
      "source": [
        "max_length"
      ],
      "execution_count": null,
      "outputs": []
    },
    {
      "cell_type": "code",
      "metadata": {
        "id": "JDH2FaDJ7n0-",
        "colab_type": "code",
        "colab": {
          "base_uri": "https://localhost:8080/",
          "height": 289
        },
        "outputId": "76970357-59ac-4e90-94ff-36dd9d9b809a"
      },
      "source": [
        "dims = max_length\n",
        "\n",
        "mlpss = Sequential()\n",
        "mlpss.add(Dense(256, input_shape=(dims,), activation='relu'))\n",
        "mlpss.add(Dense(128, activation='relu'))\n",
        "mlpss.add(Dense(num_classes))\n",
        "mlpss.add(Activation('softmax'))\n",
        "\n",
        "mlpss.summary()\n",
        "mlpss.compile(loss=tf.keras.losses.categorical_crossentropy,\n",
        "             optimizer=tf.keras.optimizers.Adam(),\n",
        "             metrics=['accuracy'])"
      ],
      "execution_count": 11,
      "outputs": [
        {
          "output_type": "stream",
          "text": [
            "Model: \"sequential_1\"\n",
            "_________________________________________________________________\n",
            "Layer (type)                 Output Shape              Param #   \n",
            "=================================================================\n",
            "dense (Dense)                (None, 256)               33869056  \n",
            "_________________________________________________________________\n",
            "dense_1 (Dense)              (None, 128)               32896     \n",
            "_________________________________________________________________\n",
            "dense_2 (Dense)              (None, 4)                 516       \n",
            "_________________________________________________________________\n",
            "activation (Activation)      (None, 4)                 0         \n",
            "=================================================================\n",
            "Total params: 33,902,468\n",
            "Trainable params: 33,902,468\n",
            "Non-trainable params: 0\n",
            "_________________________________________________________________\n"
          ],
          "name": "stdout"
        }
      ]
    },
    {
      "cell_type": "code",
      "metadata": {
        "id": "EGXuuDnC7n1y",
        "colab_type": "code",
        "colab": {
          "base_uri": "https://localhost:8080/",
          "height": 394
        },
        "outputId": "776bea0e-24d8-4642-f658-506330e0dd0c"
      },
      "source": [
        "t0 = time()\n",
        "mlpss_history = mlpss.fit(X_train, y_train, epochs=10, batch_size=64, verbose=True, validation_data=(X_test, y_test))\n",
        "print(\"Addestramento completato in %0.3fs\" % (time() - t0))"
      ],
      "execution_count": null,
      "outputs": [
        {
          "output_type": "stream",
          "text": [
            "Epoch 1/10\n",
            "41/41 [==============================] - 1s 36ms/step - loss: 15.1355 - accuracy: 0.4981 - val_loss: 1.0055 - val_accuracy: 0.5824\n",
            "Epoch 2/10\n",
            "41/41 [==============================] - 1s 28ms/step - loss: 0.7283 - accuracy: 0.7363 - val_loss: 0.9190 - val_accuracy: 0.6780\n",
            "Epoch 3/10\n",
            "41/41 [==============================] - 1s 29ms/step - loss: 0.4103 - accuracy: 0.9399 - val_loss: 0.8715 - val_accuracy: 0.7365\n",
            "Epoch 4/10\n",
            "41/41 [==============================] - 1s 28ms/step - loss: 0.2850 - accuracy: 0.9931 - val_loss: 0.8363 - val_accuracy: 0.7504\n",
            "Epoch 5/10\n",
            "41/41 [==============================] - 1s 28ms/step - loss: 0.2046 - accuracy: 0.9985 - val_loss: 0.8165 - val_accuracy: 0.7581\n",
            "Epoch 6/10\n",
            "41/41 [==============================] - 1s 29ms/step - loss: 0.1470 - accuracy: 0.9988 - val_loss: 0.8033 - val_accuracy: 0.7627\n",
            "Epoch 7/10\n",
            "41/41 [==============================] - 1s 28ms/step - loss: 0.1064 - accuracy: 0.9988 - val_loss: 0.7983 - val_accuracy: 0.7673\n",
            "Epoch 8/10\n",
            "41/41 [==============================] - 1s 29ms/step - loss: 0.0780 - accuracy: 0.9992 - val_loss: 0.7944 - val_accuracy: 0.7658\n",
            "Epoch 9/10\n",
            "41/41 [==============================] - 1s 28ms/step - loss: 0.0586 - accuracy: 0.9992 - val_loss: 0.7956 - val_accuracy: 0.7673\n",
            "Epoch 10/10\n",
            "41/41 [==============================] - 1s 28ms/step - loss: 0.0451 - accuracy: 0.9992 - val_loss: 0.7997 - val_accuracy: 0.7658\n",
            "Addestramento completato in 13.070s\n"
          ],
          "name": "stdout"
        }
      ]
    },
    {
      "cell_type": "code",
      "metadata": {
        "id": "xw6ZB0MB7n18",
        "colab_type": "code",
        "colab": {
          "base_uri": "https://localhost:8080/",
          "height": 295
        },
        "outputId": "b9b2b042-19fd-44aa-a680-cc013467e2bb"
      },
      "source": [
        "plt.plot(mlpss_history.history['accuracy'], \"b--\", label=\"Accuracy on training data\")\n",
        "plt.plot(mlpss_history.history['val_accuracy'], \"b\", label=\"Accuracy on validation data\")\n",
        "plt.plot(mlpss_history.history['loss'], \"r--\", label=\"Loss on training data\")\n",
        "plt.plot(mlpss_history.history['val_loss'], \"r\", label=\"Loss on validation data\")\n",
        "plt.title('Model Accuracy and Loss')\n",
        "plt.ylabel('Accuracy and Loss')\n",
        "plt.xlabel('Training Epoch')\n",
        "plt.ylim(0,2)\n",
        "plt.legend()\n",
        "plt.show()"
      ],
      "execution_count": null,
      "outputs": [
        {
          "output_type": "display_data",
          "data": {
            "image/png": "[encoded data removed]",
            "text/plain": [
              "<Figure size 432x288 with 1 Axes>"
            ]
          },
          "metadata": {
            "tags": [],
            "needs_background": "light"
          }
        }
      ]
    },
    {
      "cell_type": "code",
      "metadata": {
        "id": "jh4lthpH7n2G",
        "colab_type": "code",
        "colab": {
          "base_uri": "https://localhost:8080/",
          "height": 575
        },
        "outputId": "227c53af-48d6-46c2-e64b-1dec4b411022"
      },
      "source": [
        "# Test\n",
        "y_pred = mlpss.predict(X_test)\n",
        "y_pred_cr = ricateg(y_pred)\n",
        "y_test_cr = ricateg(y_test)\n",
        "# Report di classificazione\n",
        "print(\"Report di classificazione:\")\n",
        "print(classification_report(y_test_cr, y_pred_cr))\n",
        "\n",
        "# Matrice di confusione\n",
        "print(\"Matrice di confusione:\")\n",
        "mlpss_cm = confusion_matrix(y_test_cr, y_pred_cr)\n",
        "print(mlpss_cm)\n",
        "plt.imshow(mlpss_cm, cmap=plt.cm.Blues)"
      ],
      "execution_count": null,
      "outputs": [
        {
          "output_type": "stream",
          "text": [
            "Report di classificazione:\n",
            "                precision    recall  f1-score   support\n",
            "\n",
            "    alessandro       0.64      0.63      0.63       118\n",
            "        davide       0.55      0.63      0.59       106\n",
            "       fabrice       0.94      0.40      0.56       115\n",
            "unknown_person       0.85      1.00      0.92       310\n",
            "\n",
            "      accuracy                           0.77       649\n",
            "     macro avg       0.75      0.66      0.68       649\n",
            "  weighted avg       0.78      0.77      0.75       649\n",
            "\n",
            "Matrice di confusione:\n",
            "[[ 74  43   0   1]\n",
            " [ 28  67   3   8]\n",
            " [ 14  11  46  44]\n",
            " [  0   0   0 310]]\n"
          ],
          "name": "stdout"
        },
        {
          "output_type": "execute_result",
          "data": {
            "text/plain": [
              "<matplotlib.image.AxesImage at 0x7fb93a452e80>"
            ]
          },
          "metadata": {
            "tags": []
          },
          "execution_count": 27
        },
        {
          "output_type": "display_data",
          "data": {
            "image/png": "[encoded data removed]",
            "text/plain": [
              "<Figure size 432x288 with 1 Axes>"
            ]
          },
          "metadata": {
            "tags": [],
            "needs_background": "light"
          }
        }
      ]
    },
    {
      "cell_type": "markdown",
      "metadata": {
        "id": "p8aGTREs7n23",
        "colab_type": "text"
      },
      "source": [
        "Overfitting problem, padding problem (for padded sequences, most inputs are silenced). The architecture doesn't account for the sequential nature of the data. We will continue overriding the problem, first with a strong dropout to randomize the access to \"sequential\" information per hidden units, then moving to the frequency domain.\n"
      ]
    },
    {
      "cell_type": "code",
      "metadata": {
        "id": "JK4i0bTg7n24",
        "colab_type": "code",
        "colab": {
          "base_uri": "https://localhost:8080/",
          "height": 357
        },
        "outputId": "3fcd83fc-0473-46f9-d765-09f6834084d2"
      },
      "source": [
        "mlpss = Sequential()\n",
        "mlpss.add(Dense(256, input_shape=(dims,), activation='relu'))\n",
        "mlpss.add(Dropout(.66))\n",
        "mlpss.add(Dense(128, activation='relu'))\n",
        "mlpss.add(Dropout(.5))\n",
        "mlpss.add(Dense(num_classes))\n",
        "mlpss.add(Activation('softmax'))\n",
        "\n",
        "mlpss.summary()\n",
        "mlpss.compile(loss=tf.keras.losses.categorical_crossentropy,\n",
        "             optimizer=tf.keras.optimizers.Adam(),\n",
        "             metrics=['accuracy'])"
      ],
      "execution_count": 12,
      "outputs": [
        {
          "output_type": "stream",
          "text": [
            "Model: \"sequential_2\"\n",
            "_________________________________________________________________\n",
            "Layer (type)                 Output Shape              Param #   \n",
            "=================================================================\n",
            "dense_3 (Dense)              (None, 256)               33869056  \n",
            "_________________________________________________________________\n",
            "dropout (Dropout)            (None, 256)               0         \n",
            "_________________________________________________________________\n",
            "dense_4 (Dense)              (None, 128)               32896     \n",
            "_________________________________________________________________\n",
            "dropout_1 (Dropout)          (None, 128)               0         \n",
            "_________________________________________________________________\n",
            "dense_5 (Dense)              (None, 4)                 516       \n",
            "_________________________________________________________________\n",
            "activation_1 (Activation)    (None, 4)                 0         \n",
            "=================================================================\n",
            "Total params: 33,902,468\n",
            "Trainable params: 33,902,468\n",
            "Non-trainable params: 0\n",
            "_________________________________________________________________\n"
          ],
          "name": "stdout"
        }
      ]
    },
    {
      "cell_type": "code",
      "metadata": {
        "id": "fo5yllZP7n3A",
        "colab_type": "code",
        "colab": {
          "base_uri": "https://localhost:8080/",
          "height": 462
        },
        "outputId": "495b1c9b-f5f5-4429-f22c-b0f0b2641cbc"
      },
      "source": [
        "t0 = time()\n",
        "mlpss_history = mlpss.fit(X_train, y_train, epochs=12, batch_size=64, verbose=True, validation_data=(X_test, y_test))\n",
        "print(\"Addestramento completato in %0.3fs\" % (time() - t0))"
      ],
      "execution_count": 13,
      "outputs": [
        {
          "output_type": "stream",
          "text": [
            "Epoch 1/12\n",
            "41/41 [==============================] - 14s 349ms/step - loss: 71.1610 - accuracy: 0.4329 - val_loss: 1.0946 - val_accuracy: 0.4823\n",
            "Epoch 2/12\n",
            "41/41 [==============================] - 14s 334ms/step - loss: 1.2941 - accuracy: 0.5389 - val_loss: 1.0909 - val_accuracy: 0.5439\n",
            "Epoch 3/12\n",
            "41/41 [==============================] - 14s 336ms/step - loss: 1.4232 - accuracy: 0.6153 - val_loss: 1.0292 - val_accuracy: 0.6009\n",
            "Epoch 4/12\n",
            "41/41 [==============================] - 14s 336ms/step - loss: 1.1100 - accuracy: 0.6715 - val_loss: 0.9613 - val_accuracy: 0.6394\n",
            "Epoch 5/12\n",
            "41/41 [==============================] - 14s 336ms/step - loss: 2.2680 - accuracy: 0.7197 - val_loss: 0.9486 - val_accuracy: 0.6703\n",
            "Epoch 6/12\n",
            "41/41 [==============================] - 14s 338ms/step - loss: 0.9659 - accuracy: 0.7429 - val_loss: 0.8995 - val_accuracy: 0.6980\n",
            "Epoch 7/12\n",
            "41/41 [==============================] - 14s 335ms/step - loss: 1.0787 - accuracy: 0.7606 - val_loss: 0.9262 - val_accuracy: 0.7103\n",
            "Epoch 8/12\n",
            "41/41 [==============================] - 14s 342ms/step - loss: 0.7414 - accuracy: 0.7992 - val_loss: 0.8655 - val_accuracy: 0.7257\n",
            "Epoch 9/12\n",
            "41/41 [==============================] - 14s 335ms/step - loss: 2.8940 - accuracy: 0.8088 - val_loss: 0.8564 - val_accuracy: 0.7396\n",
            "Epoch 10/12\n",
            "41/41 [==============================] - 14s 337ms/step - loss: 0.6654 - accuracy: 0.8362 - val_loss: 0.8381 - val_accuracy: 0.7442\n",
            "Epoch 11/12\n",
            "41/41 [==============================] - 14s 338ms/step - loss: 1.1825 - accuracy: 0.8400 - val_loss: 0.8746 - val_accuracy: 0.7550\n",
            "Epoch 12/12\n",
            "41/41 [==============================] - 14s 334ms/step - loss: 0.6500 - accuracy: 0.8535 - val_loss: 0.8818 - val_accuracy: 0.7473\n",
            "Addestramento completato in 171.336s\n"
          ],
          "name": "stdout"
        }
      ]
    },
    {
      "cell_type": "code",
      "metadata": {
        "id": "rSAg49aXGuZB",
        "colab_type": "code",
        "colab": {
          "base_uri": "https://localhost:8080/",
          "height": 34
        },
        "outputId": "fea6a557-72d5-496d-bab2-896a5c0f5686"
      },
      "source": [
        "mlpss.save(path+'mlpss')"
      ],
      "execution_count": null,
      "outputs": [
        {
          "output_type": "stream",
          "text": [
            "INFO:tensorflow:Assets written to: /content/drive/My Drive/DSIM/recordings/mlpss/assets\n"
          ],
          "name": "stdout"
        }
      ]
    },
    {
      "cell_type": "code",
      "metadata": {
        "id": "WefMVqdn7n3J",
        "colab_type": "code",
        "colab": {
          "base_uri": "https://localhost:8080/",
          "height": 295
        },
        "outputId": "3da338cc-373c-41a7-bd15-44f33c43decf"
      },
      "source": [
        "plt.plot(mlpss_history.history['accuracy'], \"b--\", label=\"Accuracy on training data\")\n",
        "plt.plot(mlpss_history.history['val_accuracy'], \"b\", label=\"Accuracy on validation data\")\n",
        "#plt.plot(mlpss_history.history['loss'], \"r--\", label=\"Loss on training data\")\n",
        "#plt.plot(mlpss_history.history['val_loss'], \"r\", label=\"Loss on validation data\")\n",
        "plt.title('Model Accuracy and Loss')\n",
        "plt.ylabel('Accuracy and Loss')\n",
        "plt.xlabel('Training Epoch')\n",
        "plt.ylim(0,1)\n",
        "plt.legend()\n",
        "plt.show()"
      ],
      "execution_count": null,
      "outputs": [
        {
          "output_type": "display_data",
          "data": {
            "image/png": "[encoded data removed]",
            "text/plain": [
              "<Figure size 432x288 with 1 Axes>"
            ]
          },
          "metadata": {
            "tags": [],
            "needs_background": "light"
          }
        }
      ]
    },
    {
      "cell_type": "markdown",
      "metadata": {
        "id": "Azmc9pYgpRLc",
        "colab_type": "text"
      },
      "source": [
        "# MLP on Fourier Transform"
      ]
    },
    {
      "cell_type": "markdown",
      "metadata": {
        "id": "DIMCeKRwdbO2",
        "colab_type": "text"
      },
      "source": [
        "Applying (right) Fourier Transform and training MLP to recognize voice based on frequency intensities"
      ]
    },
    {
      "cell_type": "code",
      "metadata": {
        "id": "SDMsPcMzJXvX",
        "colab_type": "code",
        "colab": {}
      },
      "source": [
        "# Trasformata destra di Fourier per train set\n",
        "#X_train_ft = [rfft(signal) for signal in X_train]\n",
        "#X_train_ft = np.asarray(X_train_ft)\n",
        "#plt.plot(X_train_ft[0])"
      ],
      "execution_count": null,
      "outputs": []
    },
    {
      "cell_type": "code",
      "metadata": {
        "id": "K3C8ebLPfQgb",
        "colab_type": "code",
        "colab": {}
      },
      "source": [
        "# Troncamento dell'input\n",
        "#X_train_ft = [trunc[:50000] for trunc in X_train_ft]\n",
        "#X_train_ft = np.asarray(X_train_ft)\n",
        "\n",
        "# Trasformata del test e troncamento\n",
        "#X_test_ft = [rfft(signal) for signal in X_test]\n",
        "#X_test_ft = np.asarray(X_test_ft)\n",
        "#X_test_ft = [trunc[:50000] for trunc in X_test_ft]\n",
        "#X_test_ft = np.asarray(X_test_ft)"
      ],
      "execution_count": null,
      "outputs": []
    },
    {
      "cell_type": "code",
      "metadata": {
        "id": "MiFQp9yZkTBM",
        "colab_type": "code",
        "colab": {}
      },
      "source": [
        "#saver(X_train_ft,path+'X_train_ft');saver(X_test_ft,path+'X_test_ft')\n",
        "\n",
        "X_train_ft=loader(path+'X_train_ft'); X_test_ft=loader(path+'X_test_ft');"
      ],
      "execution_count": null,
      "outputs": []
    },
    {
      "cell_type": "code",
      "metadata": {
        "id": "oRq6jV0KgHIu",
        "colab_type": "code",
        "colab": {
          "base_uri": "https://localhost:8080/",
          "height": 289
        },
        "outputId": "009a1960-a43e-4152-b5e4-788fe8b51cb7"
      },
      "source": [
        "dims = X_train_ft.shape[1]\n",
        "num_classes = 4\n",
        "\n",
        "mlpft = Sequential()\n",
        "mlpft.add(Dense(512, input_shape=(dims,), activation='relu'))\n",
        "#mlpft.add(Dropout(.5))\n",
        "mlpft.add(Dense(256, activation='relu'))\n",
        "#mlpft.add(Dropout(.5))\n",
        "mlpft.add(Dense(num_classes))\n",
        "mlpft.add(Activation('softmax'))\n",
        "\n",
        "mlpft.summary()\n",
        "mlpft.compile(loss=tf.keras.losses.categorical_crossentropy,\n",
        "             optimizer=tf.keras.optimizers.Adam(),\n",
        "             metrics=['accuracy'])"
      ],
      "execution_count": null,
      "outputs": [
        {
          "output_type": "stream",
          "text": [
            "Model: \"sequential_1\"\n",
            "_________________________________________________________________\n",
            "Layer (type)                 Output Shape              Param #   \n",
            "=================================================================\n",
            "dense_2 (Dense)              (None, 512)               67738112  \n",
            "_________________________________________________________________\n",
            "dense_3 (Dense)              (None, 256)               131328    \n",
            "_________________________________________________________________\n",
            "dense_4 (Dense)              (None, 4)                 1028      \n",
            "_________________________________________________________________\n",
            "activation (Activation)      (None, 4)                 0         \n",
            "=================================================================\n",
            "Total params: 67,870,468\n",
            "Trainable params: 67,870,468\n",
            "Non-trainable params: 0\n",
            "_________________________________________________________________\n"
          ],
          "name": "stdout"
        }
      ]
    },
    {
      "cell_type": "code",
      "metadata": {
        "id": "Fsgr1AMuj9EW",
        "colab_type": "code",
        "colab": {
          "base_uri": "https://localhost:8080/",
          "height": 462
        },
        "outputId": "f9f7fd25-3d77-4361-890e-fdbb5ba43cab"
      },
      "source": [
        "t0 = time()\n",
        "mlpft_history = mlpft.fit(X_train_ft, y_train, epochs=12, batch_size=64, verbose=True, validation_data=(X_test_ft, y_test))\n",
        "print(\"Addestramento completato in %0.3fs\" % (time() - t0))"
      ],
      "execution_count": null,
      "outputs": [
        {
          "output_type": "stream",
          "text": [
            "Epoch 1/12\n",
            "41/41 [==============================] - 2s 48ms/step - loss: 1709.0320 - accuracy: 0.4510 - val_loss: 60.4916 - val_accuracy: 0.4777\n",
            "Epoch 2/12\n",
            "41/41 [==============================] - 1s 35ms/step - loss: 41.8592 - accuracy: 0.4599 - val_loss: 54.2168 - val_accuracy: 0.4777\n",
            "Epoch 3/12\n",
            "41/41 [==============================] - 1s 34ms/step - loss: 3630.0957 - accuracy: 0.4934 - val_loss: 39.9279 - val_accuracy: 0.4792\n",
            "Epoch 4/12\n",
            "41/41 [==============================] - 1s 35ms/step - loss: 20.6682 - accuracy: 0.4838 - val_loss: 51.3426 - val_accuracy: 0.4869\n",
            "Epoch 5/12\n",
            "41/41 [==============================] - 1s 35ms/step - loss: 10.1796 - accuracy: 0.6284 - val_loss: 34.3923 - val_accuracy: 0.5177\n",
            "Epoch 6/12\n",
            "41/41 [==============================] - 1s 35ms/step - loss: 3.7958 - accuracy: 0.7806 - val_loss: 27.5846 - val_accuracy: 0.5347\n",
            "Epoch 7/12\n",
            "41/41 [==============================] - 1s 34ms/step - loss: 1.7283 - accuracy: 0.8512 - val_loss: 26.0977 - val_accuracy: 0.5455\n",
            "Epoch 8/12\n",
            "41/41 [==============================] - 1s 35ms/step - loss: 0.7338 - accuracy: 0.9140 - val_loss: 25.8307 - val_accuracy: 0.5609\n",
            "Epoch 9/12\n",
            "41/41 [==============================] - 1s 35ms/step - loss: 0.2500 - accuracy: 0.9564 - val_loss: 25.6959 - val_accuracy: 0.5562\n",
            "Epoch 10/12\n",
            "41/41 [==============================] - 1s 34ms/step - loss: 0.0890 - accuracy: 0.9846 - val_loss: 24.9374 - val_accuracy: 0.5516\n",
            "Epoch 11/12\n",
            "41/41 [==============================] - 1s 36ms/step - loss: 0.0375 - accuracy: 0.9938 - val_loss: 24.8804 - val_accuracy: 0.5516\n",
            "Epoch 12/12\n",
            "41/41 [==============================] - 1s 34ms/step - loss: 0.0106 - accuracy: 0.9977 - val_loss: 24.9247 - val_accuracy: 0.5501\n",
            "Addestramento completato in 21.626s\n"
          ],
          "name": "stdout"
        }
      ]
    },
    {
      "cell_type": "markdown",
      "metadata": {
        "id": "dwe6L9L_p6tX",
        "colab_type": "text"
      },
      "source": [
        "Poor results. Cutting frequencies, filtering may help, but we would rather accept the architecture is not the best fit for the problem presented."
      ]
    },
    {
      "cell_type": "code",
      "metadata": {
        "id": "w7NR2zrzy33m",
        "colab_type": "code",
        "colab": {
          "base_uri": "https://localhost:8080/",
          "height": 156
        },
        "outputId": "7b80a8bb-c51e-4d92-9b26-87717c25f9b7"
      },
      "source": [
        "mlpft.save(path+'mlpft')"
      ],
      "execution_count": null,
      "outputs": [
        {
          "output_type": "stream",
          "text": [
            "WARNING:tensorflow:From /usr/local/lib/python3.6/dist-packages/tensorflow/python/training/tracking/tracking.py:111: Model.state_updates (from tensorflow.python.keras.engine.training) is deprecated and will be removed in a future version.\n",
            "Instructions for updating:\n",
            "This property should not be used in TensorFlow 2.0, as updates are applied automatically.\n",
            "WARNING:tensorflow:From /usr/local/lib/python3.6/dist-packages/tensorflow/python/training/tracking/tracking.py:111: Layer.updates (from tensorflow.python.keras.engine.base_layer) is deprecated and will be removed in a future version.\n",
            "Instructions for updating:\n",
            "This property should not be used in TensorFlow 2.0, as updates are applied automatically.\n",
            "INFO:tensorflow:Assets written to: /content/drive/My Drive/DSIM/recordings/mlpft/assets\n"
          ],
          "name": "stdout"
        }
      ]
    },
    {
      "cell_type": "code",
      "metadata": {
        "id": "HY0N0CenI3Ej",
        "colab_type": "code",
        "colab": {}
      },
      "source": [
        ""
      ],
      "execution_count": null,
      "outputs": []
    },
    {
      "cell_type": "markdown",
      "metadata": {
        "id": "2Xp3eLuOu95x",
        "colab_type": "text"
      },
      "source": [
        "# CNN on Signal"
      ]
    },
    {
      "cell_type": "markdown",
      "metadata": {
        "id": "HAF75K6CvEO8",
        "colab_type": "text"
      },
      "source": [
        "We will apply a 1-D CNN to the signal, looking for temporal patterns of sound intensity as vocal identity fingerprints"
      ]
    },
    {
      "cell_type": "code",
      "metadata": {
        "id": "RUz3fIMtb3qw",
        "colab_type": "code",
        "colab": {}
      },
      "source": [
        "X_train=loader(path+'X_train_mlpsig'); X_test=loader(path+'X_test_mlpsig'); y_train=loader(path+'y_train_mlpsig'); y_test=loader(path+'y_test_mlpsig'); num_classes=4;\n",
        "\n",
        "lengths = [len(X_train[i]) for i in range(len(X_train))]\n",
        "max_length = np.max(lengths)\n",
        "X_train = [crop(X_train[i], max_length) for i in range(len(X_train))]\n",
        "X_train = np.asarray(X_train)\n",
        "X_test = [crop(X_test[i], max_length) for i in range(len(X_test))]\n",
        "X_test = np.asarray(X_test)"
      ],
      "execution_count": null,
      "outputs": []
    },
    {
      "cell_type": "code",
      "metadata": {
        "id": "Dc_mYUrCc6_N",
        "colab_type": "code",
        "colab": {}
      },
      "source": [
        "# CNN shape adjustments (batch, length, \"features\")\n",
        "\n",
        "n_train = X_train.shape[0]\n",
        "n_test = X_test.shape[0]\n",
        "X_train_cnn = X_train.reshape(n_train,max_length,1)\n",
        "X_test_cnn = X_test.reshape(n_test,max_length,1)\n",
        "y_train_cnn = y_train.reshape(n_train,num_classes)\n",
        "y_test_cnn = y_test.reshape(n_test,num_classes)"
      ],
      "execution_count": null,
      "outputs": []
    },
    {
      "cell_type": "code",
      "metadata": {
        "id": "ydl-h3dTdBK9",
        "colab_type": "code",
        "colab": {
          "base_uri": "https://localhost:8080/",
          "height": 459
        },
        "outputId": "7390172d-fe4b-49a5-e88b-e4942a2f0f3a"
      },
      "source": [
        "# CNN on signal\n",
        "cnn = Sequential()\n",
        "cnn.add(Conv1D(filters=128, kernel_size=12, input_shape=(max_length,1), activation='relu'))\n",
        "cnn.add(MaxPool1D(pool_size=3, padding='valid'))\n",
        "cnn.add(Conv1D(filters=128, kernel_size=12, activation='relu'))\n",
        "cnn.add(MaxPool1D(pool_size=3, padding='valid'))\n",
        "cnn.add(Flatten())\n",
        "cnn.add(Dense(128))\n",
        "cnn.add(Dense(32))\n",
        "cnn.add(Dense(num_classes))\n",
        "cnn.add(Activation('softmax'))\n",
        "\n",
        "cnn.summary()\n",
        "cnn.compile(loss=tf.keras.losses.categorical_crossentropy,\n",
        "             optimizer=tf.keras.optimizers.Adam(),\n",
        "             metrics=['accuracy'])"
      ],
      "execution_count": null,
      "outputs": [
        {
          "output_type": "stream",
          "text": [
            "Model: \"sequential\"\n",
            "_________________________________________________________________\n",
            "Layer (type)                 Output Shape              Param #   \n",
            "=================================================================\n",
            "conv1d (Conv1D)              (None, 132289, 128)       1664      \n",
            "_________________________________________________________________\n",
            "max_pooling1d (MaxPooling1D) (None, 44096, 128)        0         \n",
            "_________________________________________________________________\n",
            "conv1d_1 (Conv1D)            (None, 44085, 128)        196736    \n",
            "_________________________________________________________________\n",
            "max_pooling1d_1 (MaxPooling1 (None, 14695, 128)        0         \n",
            "_________________________________________________________________\n",
            "flatten (Flatten)            (None, 1880960)           0         \n",
            "_________________________________________________________________\n",
            "dense (Dense)                (None, 128)               240763008 \n",
            "_________________________________________________________________\n",
            "dense_1 (Dense)              (None, 32)                4128      \n",
            "_________________________________________________________________\n",
            "dense_2 (Dense)              (None, 4)                 132       \n",
            "_________________________________________________________________\n",
            "activation (Activation)      (None, 4)                 0         \n",
            "=================================================================\n",
            "Total params: 240,965,668\n",
            "Trainable params: 240,965,668\n",
            "Non-trainable params: 0\n",
            "_________________________________________________________________\n"
          ],
          "name": "stdout"
        }
      ]
    },
    {
      "cell_type": "code",
      "metadata": {
        "id": "v-MlB7QydE6p",
        "colab_type": "code",
        "colab": {
          "base_uri": "https://localhost:8080/",
          "height": 170
        },
        "outputId": "04db23d3-928a-4f4d-f643-4924802d7351"
      },
      "source": [
        "t0 = time()\n",
        "cnn_history = cnn.fit(X_train_cnn, y_train_cnn, epochs=4, batch_size=16, verbose=True, validation_data=(X_test_cnn, y_test_cnn))\n",
        "print(\"Addestramento completato in %0.3fs\" % (time() - t0))"
      ],
      "execution_count": null,
      "outputs": [
        {
          "output_type": "stream",
          "text": [
            "Epoch 1/4\n",
            "163/163 [==============================] - 185s 1s/step - loss: 0.5033 - accuracy: 0.8107 - val_loss: 20.6723 - val_accuracy: 0.8921\n",
            "Epoch 2/4\n",
            "163/163 [==============================] - 184s 1s/step - loss: 0.2150 - accuracy: 0.8982 - val_loss: 39.7271 - val_accuracy: 0.8983\n",
            "Epoch 3/4\n",
            "163/163 [==============================] - 185s 1s/step - loss: 0.1368 - accuracy: 0.9476 - val_loss: 33.1584 - val_accuracy: 0.8921\n",
            "Epoch 4/4\n",
            "163/163 [==============================] - 185s 1s/step - loss: 0.1153 - accuracy: 0.9572 - val_loss: 33.7770 - val_accuracy: 0.9122\n",
            "Addestramento completato in 750.018s\n"
          ],
          "name": "stdout"
        }
      ]
    },
    {
      "cell_type": "code",
      "metadata": {
        "id": "JQVlC5LlgFQH",
        "colab_type": "code",
        "colab": {
          "base_uri": "https://localhost:8080/",
          "height": 295
        },
        "outputId": "4cfabb47-bc7b-44ab-d552-6c3fe746ec38"
      },
      "source": [
        "plt.plot(cnn_history.history['accuracy'], \"b--\", label=\"Accuracy on training data\")\n",
        "plt.plot(cnn_history.history['val_accuracy'], \"b\", label=\"Accuracy on validation data\")\n",
        "plt.plot(cnn_history.history['loss'], \"r--\", label=\"Loss on training data\")\n",
        "plt.plot(cnn_history.history['val_loss'], \"r\", label=\"Loss on validation data\")\n",
        "plt.title('Model Accuracy and Loss')\n",
        "plt.ylabel('Accuracy and Loss')\n",
        "plt.xlabel('Training Epoch')\n",
        "plt.ylim(0,2)\n",
        "plt.legend()\n",
        "plt.show()"
      ],
      "execution_count": null,
      "outputs": [
        {
          "output_type": "display_data",
          "data": {
            "image/png": "[encoded data removed]",
            "text/plain": [
              "<Figure size 432x288 with 1 Axes>"
            ]
          },
          "metadata": {
            "tags": [],
            "needs_background": "light"
          }
        }
      ]
    },
    {
      "cell_type": "markdown",
      "metadata": {
        "id": "fAf7pTuHwNKP",
        "colab_type": "text"
      },
      "source": [
        "Results are the best since we approached the whole (standardized) data instead of processing and extracting features. The architecture is promising, but heavy with many parameters. Let's try a lighter model."
      ]
    },
    {
      "cell_type": "code",
      "metadata": {
        "id": "OKmdOz6BgVSa",
        "colab_type": "code",
        "colab": {
          "base_uri": "https://localhost:8080/",
          "height": 561
        },
        "outputId": "34286522-86a2-4c27-a7d3-44365aa4a0fc"
      },
      "source": [
        "# CNN on signal\n",
        "cnn2 = Sequential()\n",
        "cnn2.add(Conv1D(filters=64, kernel_size=24, input_shape=(max_length,1), activation='relu'))\n",
        "cnn2.add(MaxPool1D(pool_size=9, padding='valid'))\n",
        "cnn2.add(Conv1D(filters=64, kernel_size=24, activation='relu'))\n",
        "cnn2.add(Dropout(0.5))\n",
        "cnn2.add(MaxPool1D(pool_size=9, padding='valid'))\n",
        "cnn2.add(Flatten())\n",
        "cnn2.add(Dropout(0.5))\n",
        "cnn2.add(Dense(128))\n",
        "cnn2.add(Dropout(0.5))\n",
        "cnn2.add(Dense(32))\n",
        "cnn2.add(Dense(num_classes))\n",
        "cnn2.add(Activation('softmax'))\n",
        "\n",
        "cnn2.summary()\n",
        "cnn2.compile(loss=tf.keras.losses.categorical_crossentropy,\n",
        "             optimizer=tf.keras.optimizers.Adam(),\n",
        "             metrics=['accuracy'])"
      ],
      "execution_count": null,
      "outputs": [
        {
          "output_type": "stream",
          "text": [
            "Model: \"sequential\"\n",
            "_________________________________________________________________\n",
            "Layer (type)                 Output Shape              Param #   \n",
            "=================================================================\n",
            "conv1d (Conv1D)              (None, 132277, 64)        1600      \n",
            "_________________________________________________________________\n",
            "max_pooling1d (MaxPooling1D) (None, 14697, 64)         0         \n",
            "_________________________________________________________________\n",
            "conv1d_1 (Conv1D)            (None, 14674, 64)         98368     \n",
            "_________________________________________________________________\n",
            "dropout (Dropout)            (None, 14674, 64)         0         \n",
            "_________________________________________________________________\n",
            "max_pooling1d_1 (MaxPooling1 (None, 1630, 64)          0         \n",
            "_________________________________________________________________\n",
            "flatten (Flatten)            (None, 104320)            0         \n",
            "_________________________________________________________________\n",
            "dropout_1 (Dropout)          (None, 104320)            0         \n",
            "_________________________________________________________________\n",
            "dense (Dense)                (None, 128)               13353088  \n",
            "_________________________________________________________________\n",
            "dropout_2 (Dropout)          (None, 128)               0         \n",
            "_________________________________________________________________\n",
            "dense_1 (Dense)              (None, 32)                4128      \n",
            "_________________________________________________________________\n",
            "dense_2 (Dense)              (None, 4)                 132       \n",
            "_________________________________________________________________\n",
            "activation (Activation)      (None, 4)                 0         \n",
            "=================================================================\n",
            "Total params: 13,457,316\n",
            "Trainable params: 13,457,316\n",
            "Non-trainable params: 0\n",
            "_________________________________________________________________\n"
          ],
          "name": "stdout"
        }
      ]
    },
    {
      "cell_type": "code",
      "metadata": {
        "id": "VJIyt3F5hINh",
        "colab_type": "code",
        "colab": {
          "base_uri": "https://localhost:8080/",
          "height": 238
        },
        "outputId": "900f790c-22eb-4257-9313-c7d2822514eb"
      },
      "source": [
        "t0 = time()\n",
        "cnn2_history = cnn2.fit(X_train_cnn, y_train_cnn, epochs=6, batch_size=16, verbose=True, validation_data=(X_test_cnn, y_test_cnn))\n",
        "print(\"Addestramento completato in %0.3fs\" % (time() - t0))"
      ],
      "execution_count": null,
      "outputs": [
        {
          "output_type": "stream",
          "text": [
            "Epoch 1/6\n",
            "163/163 [==============================] - 42s 255ms/step - loss: 3.7131 - accuracy: 0.8211 - val_loss: 0.3121 - val_accuracy: 0.8783\n",
            "Epoch 2/6\n",
            "163/163 [==============================] - 41s 251ms/step - loss: 0.3126 - accuracy: 0.8697 - val_loss: 3.6762 - val_accuracy: 0.9014\n",
            "Epoch 3/6\n",
            "163/163 [==============================] - 41s 250ms/step - loss: 0.2734 - accuracy: 0.8820 - val_loss: 22.7219 - val_accuracy: 0.8921\n",
            "Epoch 4/6\n",
            "163/163 [==============================] - 41s 252ms/step - loss: 0.2551 - accuracy: 0.8909 - val_loss: 56.7021 - val_accuracy: 0.8998\n",
            "Epoch 5/6\n",
            "163/163 [==============================] - 41s 249ms/step - loss: 0.2257 - accuracy: 0.9086 - val_loss: 73.2969 - val_accuracy: 0.9029\n",
            "Epoch 6/6\n",
            "163/163 [==============================] - 41s 250ms/step - loss: 0.2136 - accuracy: 0.9109 - val_loss: 102.5661 - val_accuracy: 0.9153\n",
            "Addestramento completato in 249.273s\n"
          ],
          "name": "stdout"
        }
      ]
    },
    {
      "cell_type": "code",
      "metadata": {
        "id": "tDch6BHahQVz",
        "colab_type": "code",
        "colab": {
          "base_uri": "https://localhost:8080/",
          "height": 295
        },
        "outputId": "aadfcffe-1c67-4383-f017-e0932528f900"
      },
      "source": [
        "plt.plot(cnn2_history.history['accuracy'], \"b--\", label=\"Accuracy on training data\")\n",
        "plt.plot(cnn2_history.history['val_accuracy'], \"b\", label=\"Accuracy on validation data\")\n",
        "plt.plot(cnn2_history.history['loss'], \"r--\", label=\"Loss on training data\")\n",
        "plt.plot(cnn2_history.history['val_loss'], \"r\", label=\"Loss on validation data\")\n",
        "plt.title('Model Accuracy and Loss')\n",
        "plt.ylabel('Accuracy and Loss')\n",
        "plt.xlabel('Training Epoch')\n",
        "plt.ylim(0,2)\n",
        "plt.legend()\n",
        "plt.show()"
      ],
      "execution_count": null,
      "outputs": [
        {
          "output_type": "display_data",
          "data": {
            "image/png": "[encoded data removed]",
            "text/plain": [
              "<Figure size 432x288 with 1 Axes>"
            ]
          },
          "metadata": {
            "tags": [],
            "needs_background": "light"
          }
        }
      ]
    },
    {
      "cell_type": "code",
      "metadata": {
        "id": "lEKIK57Ri5Uo",
        "colab_type": "code",
        "colab": {
          "base_uri": "https://localhost:8080/",
          "height": 575
        },
        "outputId": "daefdc83-0498-442f-e286-b4400f6b3b10"
      },
      "source": [
        "# Test\n",
        "y_pred = cnn2.predict(X_test_cnn)\n",
        "y_pred_cr = ricateg(y_pred)\n",
        "y_test_cr = ricateg(y_test)\n",
        "# Report di classificazione\n",
        "print(\"Report di classificazione:\")\n",
        "print(classification_report(y_test_cr, y_pred_cr))\n",
        "\n",
        "# Matrice di confusione\n",
        "print(\"Matrice di confusione:\")\n",
        "cnn2_cm = confusion_matrix(y_test_cr, y_pred_cr)\n",
        "print(cnn2_cm)\n",
        "plt.imshow(cnn2_cm, cmap=plt.cm.Blues)"
      ],
      "execution_count": null,
      "outputs": [
        {
          "output_type": "stream",
          "text": [
            "Report di classificazione:\n",
            "                precision    recall  f1-score   support\n",
            "\n",
            "    alessandro       0.96      0.69      0.80       118\n",
            "        davide       0.68      0.96      0.79       106\n",
            "       fabrice       0.97      0.89      0.93       115\n",
            "unknown_person       1.00      1.00      1.00       310\n",
            "\n",
            "      accuracy                           0.92       649\n",
            "     macro avg       0.90      0.88      0.88       649\n",
            "  weighted avg       0.94      0.92      0.92       649\n",
            "\n",
            "Matrice di confusione:\n",
            "[[ 81  37   0   0]\n",
            " [  2 102   2   0]\n",
            " [  1  12 102   0]\n",
            " [  0   0   1 309]]\n"
          ],
          "name": "stdout"
        },
        {
          "output_type": "execute_result",
          "data": {
            "text/plain": [
              "<matplotlib.image.AxesImage at 0x7f589fcd11d0>"
            ]
          },
          "metadata": {
            "tags": []
          },
          "execution_count": 12
        },
        {
          "output_type": "display_data",
          "data": {
            "image/png": "[encoded data removed]",
            "text/plain": [
              "<Figure size 432x288 with 1 Axes>"
            ]
          },
          "metadata": {
            "tags": [],
            "needs_background": "light"
          }
        }
      ]
    },
    {
      "cell_type": "code",
      "metadata": {
        "id": "fH9JKAj1ziW9",
        "colab_type": "code",
        "colab": {
          "base_uri": "https://localhost:8080/",
          "height": 156
        },
        "outputId": "e66e9626-fa05-41a6-d1f3-d7830a371223"
      },
      "source": [
        "cnn2.compile(loss=tf.keras.losses.categorical_crossentropy,\n",
        "             optimizer=tf.keras.optimizers.Adam(),\n",
        "             metrics=['accuracy'])\n",
        "X_whole = np.concatenate((X_train_cnn, X_test_cnn), axis=0)\n",
        "y_whole = np.concatenate((y_train_cnn, y_test_cnn), axis=0)\n",
        "cnn2_history = cnn2.fit(X_whole, y_whole, epochs=8, batch_size=16, verbose=False)\n",
        "cnn2.save(path+'cnn2')\n"
      ],
      "execution_count": null,
      "outputs": [
        {
          "output_type": "stream",
          "text": [
            "WARNING:tensorflow:From /usr/local/lib/python3.6/dist-packages/tensorflow/python/training/tracking/tracking.py:111: Model.state_updates (from tensorflow.python.keras.engine.training) is deprecated and will be removed in a future version.\n",
            "Instructions for updating:\n",
            "This property should not be used in TensorFlow 2.0, as updates are applied automatically.\n",
            "WARNING:tensorflow:From /usr/local/lib/python3.6/dist-packages/tensorflow/python/training/tracking/tracking.py:111: Layer.updates (from tensorflow.python.keras.engine.base_layer) is deprecated and will be removed in a future version.\n",
            "Instructions for updating:\n",
            "This property should not be used in TensorFlow 2.0, as updates are applied automatically.\n",
            "INFO:tensorflow:Assets written to: /content/drive/My Drive/DSIM/recordings/cnn2/assets\n"
          ],
          "name": "stdout"
        }
      ]
    },
    {
      "cell_type": "code",
      "metadata": {
        "id": "8044vIPFaI74",
        "colab_type": "code",
        "colab": {}
      },
      "source": [
        ""
      ],
      "execution_count": null,
      "outputs": []
    },
    {
      "cell_type": "markdown",
      "metadata": {
        "id": "bIkncJ34xUuq",
        "colab_type": "text"
      },
      "source": [
        "# CNN on MFCCs"
      ]
    },
    {
      "cell_type": "markdown",
      "metadata": {
        "id": "_62wJ2FBxa13",
        "colab_type": "text"
      },
      "source": [
        "2-D CNNs are often used for spectral analysis, but the granularity of spectrograms requires big arrays and the image paradigm doesn't represent the intrinsic difference between the nature of time and frequency axes. \n",
        "1-D CNN on multiple features is preferred, with MFCCs representing distribution of energy in frequencies, over time."
      ]
    },
    {
      "cell_type": "code",
      "metadata": {
        "id": "3sl7PbCcxZ6k",
        "colab_type": "code",
        "colab": {}
      },
      "source": [
        "def mfcc_load_data(feature_extractor=librosa.feature.mfcc, normalize=True):\n",
        "\n",
        "    labels = []\n",
        "    features = []\n",
        "    labelling = {'alessandro': 1,\n",
        "                'fabrice': 2,\n",
        "                'davide': 3,\n",
        "                'unknown_person':0}\n",
        "\n",
        "    for f in sorted(os.listdir('/content/drive/My Drive/DSIM/recordings')):\n",
        "        if f.endswith('.wav'):\n",
        "            # Carica file ed estraine le features\n",
        "            _, signal = wav.read('/content/drive/My Drive/DSIM/recordings/' + f)\n",
        "            signal = crop(signal).astype(float)\n",
        "            mfcc_features = feature_extractor(signal, sr=_, n_mfcc=40)\n",
        "            mfcc_features = np.asarray(mfcc_features)\n",
        "            if normalize==True:\n",
        "              mfcc_features = scale(mfcc_features, axis=1)\n",
        "            features.append(mfcc_features)\n",
        "\n",
        "            # Categorie\n",
        "            label = f.split('_')[1]\n",
        "            if label not in ('alessandro', 'fabrice', 'davide'):\n",
        "                label = 'unknown_person'\n",
        "            label = labelling[label]\n",
        "            labels.append(label)\n",
        "        else:\n",
        "            print(f)\n",
        "\n",
        "    # X: features, y: labels\n",
        "    num_classes = len(labelling)\n",
        "    X_train, X_test, y_train, y_test = train_test_split(np.asarray(features), np.asarray(labels), test_size=0.2, random_state=1)\n",
        "    y_train = to_categorical(y_train, num_classes)\n",
        "    y_test = to_categorical(y_test, num_classes)\n",
        "    \n",
        "    \n",
        "\n",
        "    return X_train, X_test, y_train, y_test, num_classes"
      ],
      "execution_count": null,
      "outputs": []
    },
    {
      "cell_type": "code",
      "metadata": {
        "id": "9CbtcP5ZPCBq",
        "colab_type": "code",
        "colab": {}
      },
      "source": [
        "#X_train, X_test, y_train, y_test, num_classes = mfcc_load_data()\n",
        "\n",
        "#saver(X_train,path+'X_train_mfccfeat'); saver(X_test, path+'X_test_mmfccfeat'); saver(y_train, path+'y_train_mfccfeat'); saver(y_test,path+'y_test_mlfccfeat');\n",
        "X_train=loader(path+'X_train_mfccfeat'); X_test=loader(path+'X_test_mmfccfeat'); y_train=loader(path+'y_train_mfccfeat'); y_test=loader(path+'y_test_mlfccfeat'); num_classes=4;\n"
      ],
      "execution_count": null,
      "outputs": []
    },
    {
      "cell_type": "code",
      "metadata": {
        "id": "c6Lq15mOnKAr",
        "colab_type": "code",
        "colab": {
          "base_uri": "https://localhost:8080/",
          "height": 34
        },
        "outputId": "47677b95-9749-4d45-d961-a5f27bd40033"
      },
      "source": [
        "X_train.shape"
      ],
      "execution_count": null,
      "outputs": [
        {
          "output_type": "execute_result",
          "data": {
            "text/plain": [
              "(2594, 40, 259)"
            ]
          },
          "metadata": {
            "tags": []
          },
          "execution_count": 32
        }
      ]
    },
    {
      "cell_type": "code",
      "metadata": {
        "id": "CL8hzRAioiYM",
        "colab_type": "code",
        "colab": {
          "base_uri": "https://localhost:8080/",
          "height": 34
        },
        "outputId": "bf6aaaee-f8d0-4afa-fff8-da516521e8ce"
      },
      "source": [
        "# Conv1D necessita di (batch, sequenza, features)\n",
        "X_train = np.transpose(X_train,(0,2,1))\n",
        "X_test = np.transpose(X_test,(0,2,1))\n",
        "X_train.shape"
      ],
      "execution_count": null,
      "outputs": [
        {
          "output_type": "execute_result",
          "data": {
            "text/plain": [
              "(2594, 259, 40)"
            ]
          },
          "metadata": {
            "tags": []
          },
          "execution_count": 33
        }
      ]
    },
    {
      "cell_type": "code",
      "metadata": {
        "id": "_ItFIcd6UqN0",
        "colab_type": "code",
        "colab": {
          "base_uri": "https://localhost:8080/",
          "height": 527
        },
        "outputId": "9c711b88-0441-4338-8bdd-8ffc29d9f8cd"
      },
      "source": [
        "dims = (X_train.shape[1], X_train.shape[2])\n",
        "\n",
        "cnn_mfcc = Sequential()\n",
        "cnn_mfcc.add(Conv1D(filters=128, kernel_size=4, activation='relu', input_shape=dims, padding='valid'))\n",
        "cnn_mfcc.add(MaxPool1D(3, padding='valid'))\n",
        "cnn_mfcc.add(Conv1D(filters=128, kernel_size=4, activation='relu', padding='valid'))\n",
        "cnn_mfcc.add(MaxPool1D(3, padding='valid'))\n",
        "cnn_mfcc.add(Flatten())\n",
        "cnn_mfcc.add(Dropout(0.5))\n",
        "cnn_mfcc.add(Dense(128))\n",
        "cnn_mfcc.add(Dropout(0.5))\n",
        "cnn_mfcc.add(Dense(32))\n",
        "cnn_mfcc.add(Dense(num_classes))\n",
        "cnn_mfcc.add(Activation('softmax'))\n",
        "\n",
        "cnn_mfcc.summary()\n",
        "cnn_mfcc.compile(loss=tf.keras.losses.categorical_crossentropy,\n",
        "             optimizer=tf.keras.optimizers.Adam(),\n",
        "             metrics=['accuracy'])"
      ],
      "execution_count": null,
      "outputs": [
        {
          "output_type": "stream",
          "text": [
            "Model: \"sequential_4\"\n",
            "_________________________________________________________________\n",
            "Layer (type)                 Output Shape              Param #   \n",
            "=================================================================\n",
            "conv1d_8 (Conv1D)            (None, 256, 128)          20608     \n",
            "_________________________________________________________________\n",
            "max_pooling1d_8 (MaxPooling1 (None, 85, 128)           0         \n",
            "_________________________________________________________________\n",
            "conv1d_9 (Conv1D)            (None, 82, 128)           65664     \n",
            "_________________________________________________________________\n",
            "max_pooling1d_9 (MaxPooling1 (None, 27, 128)           0         \n",
            "_________________________________________________________________\n",
            "flatten_4 (Flatten)          (None, 3456)              0         \n",
            "_________________________________________________________________\n",
            "dropout_8 (Dropout)          (None, 3456)              0         \n",
            "_________________________________________________________________\n",
            "dense_12 (Dense)             (None, 128)               442496    \n",
            "_________________________________________________________________\n",
            "dropout_9 (Dropout)          (None, 128)               0         \n",
            "_________________________________________________________________\n",
            "dense_13 (Dense)             (None, 32)                4128      \n",
            "_________________________________________________________________\n",
            "dense_14 (Dense)             (None, 4)                 132       \n",
            "_________________________________________________________________\n",
            "activation_4 (Activation)    (None, 4)                 0         \n",
            "=================================================================\n",
            "Total params: 533,028\n",
            "Trainable params: 533,028\n",
            "Non-trainable params: 0\n",
            "_________________________________________________________________\n"
          ],
          "name": "stdout"
        }
      ]
    },
    {
      "cell_type": "code",
      "metadata": {
        "id": "yhgld7X4rIHd",
        "colab_type": "code",
        "colab": {
          "base_uri": "https://localhost:8080/",
          "height": 238
        },
        "outputId": "357b4dfd-d9a5-4285-e917-eeb8d50410b9"
      },
      "source": [
        "t0 = time()\n",
        "cnn_mfcc_history = cnn_mfcc.fit(X_train, y_train, epochs=6, batch_size=32, verbose=True, validation_data=(X_test, y_test))\n",
        "print(\"Addestramento completato in %0.3fs\" % (time() - t0))"
      ],
      "execution_count": null,
      "outputs": [
        {
          "output_type": "stream",
          "text": [
            "Epoch 1/6\n",
            "82/82 [==============================] - 1s 9ms/step - loss: 0.4153 - accuracy: 0.8901 - val_loss: 0.0751 - val_accuracy: 0.9692\n",
            "Epoch 2/6\n",
            "82/82 [==============================] - 0s 5ms/step - loss: 0.0457 - accuracy: 0.9827 - val_loss: 0.0364 - val_accuracy: 0.9846\n",
            "Epoch 3/6\n",
            "82/82 [==============================] - 0s 5ms/step - loss: 0.0176 - accuracy: 0.9938 - val_loss: 0.0310 - val_accuracy: 0.9908\n",
            "Epoch 4/6\n",
            "82/82 [==============================] - 0s 5ms/step - loss: 0.0134 - accuracy: 0.9946 - val_loss: 0.0156 - val_accuracy: 0.9938\n",
            "Epoch 5/6\n",
            "82/82 [==============================] - 0s 5ms/step - loss: 0.0159 - accuracy: 0.9950 - val_loss: 0.0429 - val_accuracy: 0.9908\n",
            "Epoch 6/6\n",
            "82/82 [==============================] - 0s 5ms/step - loss: 0.0063 - accuracy: 0.9969 - val_loss: 0.0452 - val_accuracy: 0.9908\n",
            "Addestramento completato in 3.666s\n"
          ],
          "name": "stdout"
        }
      ]
    },
    {
      "cell_type": "code",
      "metadata": {
        "id": "bMsZXmEFrd4G",
        "colab_type": "code",
        "colab": {
          "base_uri": "https://localhost:8080/",
          "height": 295
        },
        "outputId": "8e9dcdbd-00a4-4d76-f925-b10e5681d5c2"
      },
      "source": [
        "plt.plot(cnn_mfcc_history.history['accuracy'], \"b--\", label=\"Accuracy on training data\")\n",
        "plt.plot(cnn_mfcc_history.history['val_accuracy'], \"b\", label=\"Accuracy on validation data\")\n",
        "plt.plot(cnn_mfcc_history.history['loss'], \"r--\", label=\"Loss on training data\")\n",
        "plt.plot(cnn_mfcc_history.history['val_loss'], \"r\", label=\"Loss on validation data\")\n",
        "plt.title('Model Accuracy and Loss')\n",
        "plt.ylabel('Accuracy and Loss')\n",
        "plt.xlabel('Training Epoch')\n",
        "plt.ylim(0,2)\n",
        "plt.legend()\n",
        "plt.show()"
      ],
      "execution_count": null,
      "outputs": [
        {
          "output_type": "display_data",
          "data": {
            "image/png": "[encoded data removed]",
            "text/plain": [
              "<Figure size 432x288 with 1 Axes>"
            ]
          },
          "metadata": {
            "tags": [],
            "needs_background": "light"
          }
        }
      ]
    },
    {
      "cell_type": "code",
      "metadata": {
        "id": "0YBpMzftrw4Y",
        "colab_type": "code",
        "colab": {
          "base_uri": "https://localhost:8080/",
          "height": 575
        },
        "outputId": "96bd35dd-7530-4eea-fa1c-468bf6ed3509"
      },
      "source": [
        "# Test\n",
        "y_pred = cnn_mfcc.predict(X_test)\n",
        "y_pred_cr = ricateg(y_pred)\n",
        "y_test_cr = ricateg(y_test)\n",
        "# Report di classificazione\n",
        "print(\"Report di classificazione:\")\n",
        "print(classification_report(y_test_cr, y_pred_cr))\n",
        "\n",
        "# Matrice di confusione\n",
        "print(\"Matrice di confusione:\")\n",
        "cnn_mfcc_cm = confusion_matrix(y_test_cr, y_pred_cr)\n",
        "print(cnn_mfcc_cm)\n",
        "plt.imshow(cnn_mfcc_cm, cmap=plt.cm.Blues)"
      ],
      "execution_count": null,
      "outputs": [
        {
          "output_type": "stream",
          "text": [
            "Report di classificazione:\n",
            "                precision    recall  f1-score   support\n",
            "\n",
            "    alessandro       1.00      0.95      0.97       118\n",
            "        davide       0.95      1.00      0.97       106\n",
            "       fabrice       1.00      1.00      1.00       115\n",
            "unknown_person       1.00      1.00      1.00       310\n",
            "\n",
            "      accuracy                           0.99       649\n",
            "     macro avg       0.99      0.99      0.99       649\n",
            "  weighted avg       0.99      0.99      0.99       649\n",
            "\n",
            "Matrice di confusione:\n",
            "[[112   6   0   0]\n",
            " [  0 106   0   0]\n",
            " [  0   0 115   0]\n",
            " [  0   0   0 310]]\n"
          ],
          "name": "stdout"
        },
        {
          "output_type": "execute_result",
          "data": {
            "text/plain": [
              "<matplotlib.image.AxesImage at 0x7f7cd6208780>"
            ]
          },
          "metadata": {
            "tags": []
          },
          "execution_count": 42
        },
        {
          "output_type": "display_data",
          "data": {
            "image/png": "[encoded data removed]",
            "text/plain": [
              "<Figure size 432x288 with 1 Axes>"
            ]
          },
          "metadata": {
            "tags": [],
            "needs_background": "light"
          }
        }
      ]
    },
    {
      "cell_type": "code",
      "metadata": {
        "id": "bko2Q_w_sFWg",
        "colab_type": "code",
        "colab": {
          "base_uri": "https://localhost:8080/",
          "height": 34
        },
        "outputId": "33cb6fc4-66d7-4d95-e3f7-ded7cdca3173"
      },
      "source": [
        "cnn_mfcc.compile(loss=tf.keras.losses.categorical_crossentropy,\n",
        "             optimizer=tf.keras.optimizers.Adam(),\n",
        "             metrics=['accuracy'])\n",
        "X_whole = np.concatenate((X_train, X_test), axis=0)\n",
        "y_whole = np.concatenate((y_train, y_test), axis=0)\n",
        "cnn_mfcc_history = cnn_mfcc.fit(X_whole, y_whole, epochs=8, batch_size=16, verbose=False)\n",
        "cnn_mfcc.save(path+'cnn_mfcc')"
      ],
      "execution_count": null,
      "outputs": [
        {
          "output_type": "stream",
          "text": [
            "INFO:tensorflow:Assets written to: /content/drive/My Drive/DSIM/recordings/cnn_mfcc/assets\n"
          ],
          "name": "stdout"
        }
      ]
    },
    {
      "cell_type": "markdown",
      "metadata": {
        "id": "fongsXUFzWNF",
        "colab_type": "text"
      },
      "source": [
        "We have almost perfect results in a few epochs, for less than 5% of the parameters necessary for the previous 1-D Convolutional architecture, and without the needs of 2-D architectures and spectrogram computations and memory space requirements."
      ]
    }
  ]
}